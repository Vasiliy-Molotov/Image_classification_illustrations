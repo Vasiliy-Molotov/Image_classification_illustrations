{
 "cells": [
  {
   "cell_type": "markdown",
   "metadata": {},
   "source": [
    "# Image recognition model for illustrations"
   ]
  },
  {
   "cell_type": "markdown",
   "metadata": {},
   "source": [
    "### 00 Summary"
   ]
  },
  {
   "cell_type": "markdown",
   "metadata": {},
   "source": [
    "The goal is to tag raster images (converted vector illustrations) \n",
    "\n",
    "Why not standard and well-known image recognition services? - they work with photos, not illustrations, illustration styles variy from author to author so the model has to be trained constantly\n",
    "\n",
    "Python 3.5 | Windows 8"
   ]
  },
  {
   "cell_type": "markdown",
   "metadata": {},
   "source": [
    "### 01 Ideas | to do list |  comments"
   ]
  },
  {
   "cell_type": "markdown",
   "metadata": {},
   "source": [
    "#### Ideas\n",
    "1) принципиальная проблема 1 – зачастую теги соответствуют не всей картинке, а одной из ее составной частей. Например, в случае, если на картинке изображен набор иконок. В этом случае для каждой субкартинки есть свой тег. Но нейросеть не знает какой именно субкартинке принадлежит этот тег, она считает его атрибутом целой картинки и таким образом учится не лучшим образом. Как можно улучшить предсказание для таких картинок?. Ререшние - 1) найти сет отдельных иконок с тагами и прогнать обучение на нем 2) разбить картинки данного сета на более мелкие части и проставить теги на каждую из них в ручную (большая трудоемкость) 3) научить модель опозновать картинки, состоящие из составных частей и прогонять распознование на каждой из них (общая идея)\n",
    "\n",
    "2) принципиальная проблема 2 – что делать с тем, что картинки разного размера? Возможные решения - (1) обрезание (crop) (потеря информации, что негативно влияет на качество предсказания), (2) сжатие/растяжение (потеря информации + деформация, что может очень негаивно влиять на качество предсказания (3) создание из одной картинки нескольких, которые покрывают всю картинку (таких способов существует много), затем прогон модели на каждой из них, затем комбинирование предсказаний\n",
    "\n",
    "3) принципиальная проблема 3 – результаты модели должны быть инвариантны относительно следующих изменений картинки: 1) поворот, отражение, 2) равномерный сдвиг всей картинки 3) перестановки составных независимых частей (например, если на картинке 2 объекта - машина и человек, их изображения раздельны и разнесены по разным частям картинки, то при их замене местами результат модели должен остаться прежним). 4) скарлирование составных независимых частей\n",
    "\n",
    "Пункты теоретически спорные, т.к. некоторые понятия меняются в зависимости от положения объектов (например, приближаться, удаляться), принебрежем обучением таких концепций и сосредоточимся на том, чтобы не зависить в обучении от сдвигов/поворотов/перемешиваний. Это нужно затем, что авторы могут рисовать одни и те же элементы (например, машины) в разных местах изображения, разного размера, и модель должна понимать, что хоть элементы по-разному расположены и имеют разный рамер, они значат одно и то же\n",
    "\n",
    "3.1) openCV - выделение особых точек, метод в принципе построен уже с учетом таковых требований. нейронные сети - в базовом варианте сети входной слой принимает положение (i,j) пикселя на картинке, поэтому простая нейронная сеть таким требованиям не соответствует. workarounds? Updated: сверточная нейронная сеть в некоторой степени может быть устойчива к некоторым трансляциям\n",
    "\n",
    "4) тегирование – (1) распознование изображения - этап 1, самое сложеное (2) работа с тегами ((дополнение, порождение, синонимы и пр.), пример1, если есть теги \"человек\" и \"доктор\" -> создать тег \"медицина\", \"здоровье, пример2 если есть тег Eiffel -> создать тег Eiffel tower, пример3 если есть тег \"машина\" -> добавить тег транспорт (категория), пример4 если есть тег \"еда\"-> добавить тег \"пища\" (синоним)) оставим на этап 2, как второстепенную задачу, при этом непременно очень важную и в высокой степени влияющую на качество\n",
    "\n",
    "5) распознование слов на изображениях -> словарь принадлежности слов к темам/тегам -> порождение тегов.\n",
    "\n",
    "6) SVG формат вполне читабелен в блокноте -> можно использовать для порождения новых векторных изображений на програмном уровне\n",
    "\n",
    "7) стиль векторных иллюстраций очень изменчив - их сложно обучать\n",
    "\n",
    "8) # построение матрицы частот взаимных встреч тегов\n",
    "\n",
    "Other\n",
    "кластеринг на графах (ребра с весами) -> иерархическое древо\n",
    "\n",
    "Matrix dimensional reduction?\n",
    "\n",
    "вектор -> растр -> вектор для сравнения качества векторизации (SVG)\n",
    "\n",
    "ME TO DO 1 - reccommendation sustem on tags recommendtation for authors when they input, what they've drawn\n",
    "and more tag analysis\n",
    "A/B experimetn - 2 pretty sililar (or completely similar pics) with author's only tags and with recommended tags\n",
    "\n",
    "\n",
    "выделение составных частей изображения (по разным границам)\n",
    "hidden latent layers?\n",
    "общий дизайн улучшения\n",
    "\n",
    "дополнить задачу следующим этапом - рекомендация по самым искомым/популярным тегам\n",
    "\n",
    "выделение кусков из векторов?\n",
    "\n",
    "bag of images?\n",
    "\n",
    "подход с точки зрения не распознавания изображений, а связных словарей,\n",
    "которые затем пойдут в рекомендации авторам\n",
    "сначала изучить задачу помощи в рекоммендациям авторам"
   ]
  },
  {
   "cell_type": "markdown",
   "metadata": {},
   "source": [
    "#### To do list\n",
    "\n",
    "1.0) предобработка данных\n",
    "\n",
    "1.1) сопоставить файл тегов и картинки (join), устранить дубликаты\n",
    "\n",
    "2) сделать корректную кросс-валидацию для обучения. Идея в том, чтобы теги были равномерно распределены по train/test сетам\n",
    "\n",
    "3) cделать метрику качества полученной модели\n",
    "\n",
    "4) выбор и тренинг на нескольких моделях\n",
    "\n",
    "5.1) CNN\n",
    "\n",
    "5.1.1) Техническая подзадача 1 – использование GPU для ускорения вычислений (openCL (на Radeon) / cuda for faster training)\n",
    "\n",
    "5.1.2)  Техническая подзадача 2 – to minimize the size of vectorized image representation for learning. Now numpy.array takes 10x more space in RAM compared to image size on HDD. Possible options – to minimize the size of the array by adding dtype or somehow else. another representation?\n",
    "\n",
    "5.1.3) Техническая подзадача 3 – размер сети. Для картинки 1024x1024 в данный момент memory error. workarounds? Dimensional reduction (probably won't work), image rescaling (probalby ok, but quality reduction), anything else?\n",
    "\n",
    "5.2) OpenCV\n",
    "\n",
    "5.2.1) выбор типа и оптимальное выделение особых точек\n",
    "\n",
    "5.2.2) кластеринг/группировка\n",
    "\n",
    "5.2.3) classification\n",
    "\n",
    "5.3) look for other methods\n",
    "\n",
    "6) do the [quality of the model] to [number of items in train set] to check the learning curve \n",
    "\n",
    "\n",
    "other_1) изображения с иконками (1) - вычислить их количество, (2) оценить трудоемкость в человекочасах по разрезанию и тегированию составных частей\n",
    "\n"
   ]
  },
  {
   "cell_type": "markdown",
   "metadata": {},
   "source": [
    "### 02 Imports"
   ]
  },
  {
   "cell_type": "code",
   "execution_count": 1,
   "metadata": {
    "collapsed": false,
    "scrolled": true
   },
   "outputs": [],
   "source": [
    "# not all used\n",
    "import lasagne\n",
    "from theano import tensor as T\n",
    "from lasagne.nonlinearities import *\n",
    "import matplotlib\n",
    "import matplotlib.pyplot as plt\n",
    "import pandas as pd\n",
    "import numpy as np\n",
    "import scipy as sp\n",
    "from IPython.display import Image, HTML\n",
    "from IPython.display import clear_output\n",
    "import pylab\n",
    "import glob, os\n",
    "from PIL import Image\n",
    "import theano\n",
    "# import keras\n",
    "import random\n",
    "import itertools\n",
    "import collections\n",
    "import re\n",
    "\n",
    "# pandas display options\n",
    "pd.options.display.max_columns = 100 #def100\n",
    "pd.options.display.max_colwidth = 100 #def100\n",
    "pd.options.display.max_rows = 100 #def 100\n",
    "\n",
    "%matplotlib inline  "
   ]
  },
  {
   "cell_type": "code",
   "execution_count": 2,
   "metadata": {
    "collapsed": true
   },
   "outputs": [],
   "source": [
    "import cv2\n",
    "cv2.ocl.setUseOpenCL(False)\n",
    "# http://stackoverflow.com/questions/33639272/opencv-3-python-feature-detection-error-on-function-cv2-detectandcompute-and-als\n",
    "from cv2 import ORB_create\n",
    "from cv2 import drawKeypoints\n",
    "from cv2 import BFMatcher\n",
    "from cv2 import NORM_HAMMING\n",
    "# from cv2 import orb.detectAndCompute\n",
    "from cv2 import imread"
   ]
  },
  {
   "cell_type": "markdown",
   "metadata": {
    "collapsed": true
   },
   "source": [
    "### 03 Ways to inputs"
   ]
  },
  {
   "cell_type": "code",
   "execution_count": 3,
   "metadata": {
    "collapsed": true
   },
   "outputs": [],
   "source": [
    "#  change this according to your working directories\n",
    "\n",
    "way = \"G:\\!datascience\\!image_class\\Image_class_01\" # working directory\n",
    "way_pics = \"G:\\!google_drive\\pics+keywords (1)\\pic\" # directory with pictures\n",
    "tag_file = \"G:\\!google_drive\\pics+keywords (1)\\sample01.txt\" # file with tags"
   ]
  },
  {
   "cell_type": "code",
   "execution_count": 4,
   "metadata": {
    "collapsed": true
   },
   "outputs": [],
   "source": [
    "# example pic\n",
    "# pic1 = \"1309.i001.001.S.m001.c18.Arabic Royal Pattern.jpg\""
   ]
  },
  {
   "cell_type": "markdown",
   "metadata": {},
   "source": [
    "### 04 Functions (preprocessing)"
   ]
  },
  {
   "cell_type": "code",
   "execution_count": 5,
   "metadata": {
    "collapsed": false
   },
   "outputs": [],
   "source": [
    "def get_file_names_of_pics(way = way_pics,\n",
    "                           pics_available_types = ['.jpg','.JPG']):\n",
    "# getting file names of pics\n",
    "# just by getting names of all files in the dirrectory\n",
    "# and filtering them by extension\n",
    "    os.chdir(way_pics)\n",
    "    pics = [] \n",
    "    for file in glob.glob(\"*\"):\n",
    "        pics.append(file)\n",
    "    pics = [pic for pic in pics if pic[-4:] in pics_available_types]\n",
    "#     os.chdir(way)\n",
    "#     print(len(pics))\n",
    "#     pics[:10]\n",
    "    return(pics)\n",
    "\n",
    "# pics_types = set([i[-4:] for i in pics])\n",
    "# pics_types"
   ]
  },
  {
   "cell_type": "code",
   "execution_count": 6,
   "metadata": {
    "collapsed": false
   },
   "outputs": [],
   "source": [
    "def get_pics_sizes(pics):\n",
    "    pics_sizes = []\n",
    "    for pic in pics:\n",
    "    # implement parallel computing for speed boost?\n",
    "    # this takes much time\n",
    "#         if pic[-4:].lower() == '.jpg':\n",
    "        im=Image.open(way_pics + \"\\\\\" + pic)\n",
    "        pics_sizes.append(im.size) # (width,height) tuple\n",
    "    return(pics_sizes)"
   ]
  },
  {
   "cell_type": "code",
   "execution_count": 7,
   "metadata": {
    "collapsed": false
   },
   "outputs": [],
   "source": [
    "def plot_pics_sizes_distribution(pics_sizes):\n",
    "    #plotting Node vs friends age distribution\n",
    "    x = [i[0] for i in pics_sizes] #width\n",
    "    y = [i[1] for i in pics_sizes] #height\n",
    "    ax = plt.subplot(111)\n",
    "    plt.scatter(x, y, alpha = 0.03,) \n",
    "    ax.set_title('Image resolution distribution')\n",
    "    ax.set_xlabel('width')\n",
    "    ax.set_ylabel('height')\n",
    "    # pylab.savefig(\"age_distr1\", bbox_inches='tight')\n",
    "    plt.show()\n",
    "# plot_pics_sizes_distribution()"
   ]
  },
  {
   "cell_type": "code",
   "execution_count": 8,
   "metadata": {
    "collapsed": false
   },
   "outputs": [],
   "source": [
    "def calc_share_of_imgs_based_on_resolution(pics_sizes, height = 1024, width = 1024):\n",
    "    return(sum([((i[0] == width) and (i[1] == height)) for i in pics_sizes])/len(pics_sizes))"
   ]
  },
  {
   "cell_type": "code",
   "execution_count": 9,
   "metadata": {
    "collapsed": false
   },
   "outputs": [],
   "source": [
    "def read_tag_file(tag_file = tag_file):\n",
    "    # read the tag file and put it into a list form\n",
    "    # also form a tags_bag - a list with all tags to analyse it\n",
    "\n",
    "    # it runs too long, maybe parallel computing?\n",
    "\n",
    "    tags=[]\n",
    "    with open(tag_file, 'r') as f:\n",
    "        for line in f:\n",
    "            tags.append(line.replace('\\n',''))\n",
    "    tags = [item.split('\\t') for item in tags] \n",
    "    tags = [[item[0], [i for i in item[1].split(';')]] for item in tags]\n",
    "    tags = [i for i in tags if i[1] != ['']] # remove all tags with no description\n",
    "    tags_bag = [item[1] for item in tags]\n",
    "    tags_bag = [item for sublist in tags_bag for item in sublist]\n",
    "#     tags_bag[:5]\n",
    "    return(tags, tags_bag)"
   ]
  },
  {
   "cell_type": "code",
   "execution_count": 10,
   "metadata": {
    "collapsed": true
   },
   "outputs": [],
   "source": [
    "def clean_and_merge(pics, pics_sizes, tags):\n",
    "    # removing duplicate tags\n",
    "    # as of now there can be no duplicate pics since the OS prohibits duplicate names\n",
    "    # removing pics with no corresponding tags\n",
    "    # matching remaining pics with corresponding tags\n",
    "    tags_df = pd.DataFrame(data = tags,columns = ['pic','tag']).drop_duplicates(subset = 'pic', keep='first')\n",
    "    pics_df = pd.DataFrame(data = {'pic':pics,'pic_size':pics_sizes}).merge(tags_df, on='pic', how='left').dropna()\n",
    "#     pics_df.columns = ['pic', 'tags']\n",
    "    return pics_df"
   ]
  },
  {
   "cell_type": "code",
   "execution_count": 11,
   "metadata": {
    "collapsed": true
   },
   "outputs": [],
   "source": [
    "# def save_and_load(pics_df):\n",
    "#     os.path.isfile(way + '\\\\' + 'pics_df') == True\n",
    "#     pics_df.to_csv(path_or_buf = way + '\\\\' + 'pics_df', index = False)\n",
    "#     pics_df =  pd.read_csv(way + '\\\\' + 'pics_df', encoding = 'windows-1250')"
   ]
  },
  {
   "cell_type": "code",
   "execution_count": 92,
   "metadata": {
    "collapsed": true
   },
   "outputs": [],
   "source": [
    "def str_to_lst(lst):\n",
    "    junkers = re.compile(\"[[' \\]]\")\n",
    "    result = junkers.sub('', lst).split(',')\n",
    "    return(result)"
   ]
  },
  {
   "cell_type": "code",
   "execution_count": 13,
   "metadata": {
    "collapsed": true
   },
   "outputs": [],
   "source": [
    "def load_inputs(way = way):\n",
    "    if os.path.isfile(way + '\\\\' + 'pics_df') == True:\n",
    "        pics_df =  pd.read_csv(way + '\\\\' + 'pics_df', encoding = 'windows-1250')\n",
    "    else:\n",
    "        pics = get_file_names_of_pics()\n",
    "        pics_sizes = get_pics_sizes(pics = pics) #that's very long\n",
    "        tags, tags_bag = read_tag_file()\n",
    "#         tags_names = [item[0] for item in tags]\n",
    "#         tags_tags = [item[1] for item in tags]\n",
    "        pics_df = clean_and_merge(pics = pics, tags = tags, pics_sizes = pics_sizes)\n",
    "        pics_df.ix[0:,'tag'] = pd.DataFrame(pics_df.ix[0:,'tag']).apply(lambda row: str_to_lst(row['tag']), axis = 1)\n",
    "        pics_df.to_csv(path_or_buf = way + '\\\\' + 'pics_df', index = False)\n",
    "    return pics_df"
   ]
  },
  {
   "cell_type": "code",
   "execution_count": 14,
   "metadata": {
    "collapsed": false
   },
   "outputs": [],
   "source": [
    "def pic_open(pic, way_pics):\n",
    "    img = Image.open(way_pics + \"\\\\\" + pic).convert('RGB') # sometimes there is CMYK\n",
    "    img = img.resize((128,128),Image.ANTIALIAS)\n",
    "    img = np.reshape(img, (3,128,128))\n",
    "    return img\n",
    "\n",
    "def find_bad_pics(df,way_pics = way_pics):\n",
    "    err_arr = []\n",
    "    for pic in df:\n",
    "        try:\n",
    "            pic_open(pic, way_pics = way_pics)\n",
    "        except:\n",
    "            err_arr.append(pic)\n",
    "#             print(pic)\n",
    "    return err_arr\n",
    "\n",
    "def do_find_bad_pics(df, way):\n",
    "    err_arr = find_bad_pics(df)\n",
    "    pd.DataFrame(err_arr).to_csv(path_or_buf = way + '\\\\' + 'err_pic_df', encoding = 'windows-1250', index = False)\n",
    "    err_pic_df =  pd.read_csv(way + '\\\\' + 'err_pic_df', encoding = 'windows-1250')\n",
    "    return list(err_pic_df['0'].values)\n",
    "\n",
    "# to write function\n",
    "# for i in err_pic_df:\n",
    "#     pics_df = pics_df.drop(pics_df[pics_df['pic'] == i].index)"
   ]
  },
  {
   "cell_type": "markdown",
   "metadata": {},
   "source": [
    "### 05 Reading inputs"
   ]
  },
  {
   "cell_type": "code",
   "execution_count": 15,
   "metadata": {
    "collapsed": false
   },
   "outputs": [],
   "source": [
    "# step 1 - scan a pics directory and a tag file to get all info into a single dataframe\n",
    "# takes ~ 10 min at first run (scanning 2.4 GB from drive)\n",
    "# then saves results to a separate file to start faster on the next launch of the notebook\n",
    "pics_df = load_inputs(way=way)"
   ]
  },
  {
   "cell_type": "code",
   "execution_count": 16,
   "metadata": {
    "collapsed": false
   },
   "outputs": [
    {
     "data": {
      "text/plain": [
       "24282"
      ]
     },
     "execution_count": 16,
     "metadata": {},
     "output_type": "execute_result"
    }
   ],
   "source": [
    "# number of all pictures\n",
    "pics_df.shape[0]"
   ]
  },
  {
   "cell_type": "code",
   "execution_count": 17,
   "metadata": {
    "collapsed": false
   },
   "outputs": [
    {
     "data": {
      "text/html": [
       "<div>\n",
       "<table border=\"1\" class=\"dataframe\">\n",
       "  <thead>\n",
       "    <tr style=\"text-align: right;\">\n",
       "      <th></th>\n",
       "      <th>pic</th>\n",
       "      <th>pic_size</th>\n",
       "      <th>tag</th>\n",
       "    </tr>\n",
       "  </thead>\n",
       "  <tbody>\n",
       "    <tr>\n",
       "      <th>0</th>\n",
       "      <td>1309.i001.001.S.m001.c18.Arabic Royal Pattern.jpg</td>\n",
       "      <td>(1024, 890)</td>\n",
       "      <td>['royal pattern', 'arabic pattern', 'flower', 'background', 'design', 'islam', 'motif', 'decorat...</td>\n",
       "    </tr>\n",
       "    <tr>\n",
       "      <th>1</th>\n",
       "      <td>1309.i001.001.S.m001.c18.Black Floral Arabic Pattern -var_131121.jpg</td>\n",
       "      <td>(1024, 890)</td>\n",
       "      <td>['wedding', 'decoration', 'filigree', 'design', 'vintage', 'old', 'arabesque', 'art', 'set', 'me...</td>\n",
       "    </tr>\n",
       "  </tbody>\n",
       "</table>\n",
       "</div>"
      ],
      "text/plain": [
       "                                                                    pic  \\\n",
       "0                     1309.i001.001.S.m001.c18.Arabic Royal Pattern.jpg   \n",
       "1  1309.i001.001.S.m001.c18.Black Floral Arabic Pattern -var_131121.jpg   \n",
       "\n",
       "      pic_size  \\\n",
       "0  (1024, 890)   \n",
       "1  (1024, 890)   \n",
       "\n",
       "                                                                                                   tag  \n",
       "0  ['royal pattern', 'arabic pattern', 'flower', 'background', 'design', 'islam', 'motif', 'decorat...  \n",
       "1  ['wedding', 'decoration', 'filigree', 'design', 'vintage', 'old', 'arabesque', 'art', 'set', 'me...  "
      ]
     },
     "execution_count": 17,
     "metadata": {},
     "output_type": "execute_result"
    }
   ],
   "source": [
    "pics_df[:2]"
   ]
  },
  {
   "cell_type": "code",
   "execution_count": 18,
   "metadata": {
    "collapsed": false
   },
   "outputs": [],
   "source": [
    "# (code not optimized atm, later this step could be removed)\n",
    "# this is another scan to find some pics with errors in names due to the encoding\n",
    "# 15 more minutes to run\n",
    "err_pic_df = find_bad_pics(df = list(pics_df['pic'].values))"
   ]
  },
  {
   "cell_type": "code",
   "execution_count": 19,
   "metadata": {
    "collapsed": true
   },
   "outputs": [],
   "source": [
    "# drop that bad pics\n",
    "for i in err_pic_df:\n",
    "    pics_df = pics_df.drop(pics_df[pics_df['pic'] == i].index)"
   ]
  },
  {
   "cell_type": "code",
   "execution_count": 20,
   "metadata": {
    "collapsed": true
   },
   "outputs": [],
   "source": [
    "tags, tags_bag = read_tag_file()"
   ]
  },
  {
   "cell_type": "markdown",
   "metadata": {
    "collapsed": false
   },
   "source": [
    "### 06 Data exploration"
   ]
  },
  {
   "cell_type": "code",
   "execution_count": 21,
   "metadata": {
    "collapsed": false
   },
   "outputs": [],
   "source": [
    "# 1) let's look at the tag distribution\n",
    "\n",
    "unique, counts = np.unique(tags_bag, return_counts=True)\n",
    "freq = np.asarray((unique, counts)).T \n",
    "\n",
    "freq = pd.DataFrame(freq, columns=['tag','frequency'])\n",
    "freq['frequency'] = freq['frequency'].astype(np.int64)\n",
    "\n",
    "freq = freq.sort_values(by='frequency', ascending=False).reset_index(drop = True)\n",
    "# freq['frequency'].hist(bins = 1000)"
   ]
  },
  {
   "cell_type": "code",
   "execution_count": 22,
   "metadata": {
    "collapsed": false
   },
   "outputs": [
    {
     "data": {
      "text/html": [
       "<div>\n",
       "<table border=\"1\" class=\"dataframe\">\n",
       "  <thead>\n",
       "    <tr style=\"text-align: right;\">\n",
       "      <th></th>\n",
       "      <th>tag</th>\n",
       "      <th>frequency</th>\n",
       "    </tr>\n",
       "  </thead>\n",
       "  <tbody>\n",
       "    <tr>\n",
       "      <th>0</th>\n",
       "      <td>vector</td>\n",
       "      <td>24387</td>\n",
       "    </tr>\n",
       "    <tr>\n",
       "      <th>1</th>\n",
       "      <td>illustration</td>\n",
       "      <td>24355</td>\n",
       "    </tr>\n",
       "    <tr>\n",
       "      <th>2</th>\n",
       "      <td>design</td>\n",
       "      <td>22309</td>\n",
       "    </tr>\n",
       "    <tr>\n",
       "      <th>3</th>\n",
       "      <td>set</td>\n",
       "      <td>17983</td>\n",
       "    </tr>\n",
       "    <tr>\n",
       "      <th>4</th>\n",
       "      <td>collection</td>\n",
       "      <td>14665</td>\n",
       "    </tr>\n",
       "    <tr>\n",
       "      <th>5</th>\n",
       "      <td>business</td>\n",
       "      <td>13893</td>\n",
       "    </tr>\n",
       "    <tr>\n",
       "      <th>6</th>\n",
       "      <td>isolated</td>\n",
       "      <td>13868</td>\n",
       "    </tr>\n",
       "    <tr>\n",
       "      <th>7</th>\n",
       "      <td>decorative</td>\n",
       "      <td>13668</td>\n",
       "    </tr>\n",
       "    <tr>\n",
       "      <th>8</th>\n",
       "      <td>symbol</td>\n",
       "      <td>13093</td>\n",
       "    </tr>\n",
       "    <tr>\n",
       "      <th>9</th>\n",
       "      <td>elements</td>\n",
       "      <td>11917</td>\n",
       "    </tr>\n",
       "    <tr>\n",
       "      <th>10</th>\n",
       "      <td>icons</td>\n",
       "      <td>11864</td>\n",
       "    </tr>\n",
       "    <tr>\n",
       "      <th>11</th>\n",
       "      <td>concept</td>\n",
       "      <td>10487</td>\n",
       "    </tr>\n",
       "    <tr>\n",
       "      <th>12</th>\n",
       "      <td>background</td>\n",
       "      <td>9936</td>\n",
       "    </tr>\n",
       "    <tr>\n",
       "      <th>13</th>\n",
       "      <td>flat</td>\n",
       "      <td>8766</td>\n",
       "    </tr>\n",
       "    <tr>\n",
       "      <th>14</th>\n",
       "      <td>internet</td>\n",
       "      <td>8336</td>\n",
       "    </tr>\n",
       "    <tr>\n",
       "      <th>15</th>\n",
       "      <td>technology</td>\n",
       "      <td>8051</td>\n",
       "    </tr>\n",
       "    <tr>\n",
       "      <th>16</th>\n",
       "      <td>template</td>\n",
       "      <td>8015</td>\n",
       "    </tr>\n",
       "    <tr>\n",
       "      <th>17</th>\n",
       "      <td>layout</td>\n",
       "      <td>7628</td>\n",
       "    </tr>\n",
       "    <tr>\n",
       "      <th>18</th>\n",
       "      <td>sign</td>\n",
       "      <td>7445</td>\n",
       "    </tr>\n",
       "    <tr>\n",
       "      <th>19</th>\n",
       "      <td>computer</td>\n",
       "      <td>7047</td>\n",
       "    </tr>\n",
       "  </tbody>\n",
       "</table>\n",
       "</div>"
      ],
      "text/plain": [
       "             tag  frequency\n",
       "0         vector      24387\n",
       "1   illustration      24355\n",
       "2         design      22309\n",
       "3            set      17983\n",
       "4     collection      14665\n",
       "5       business      13893\n",
       "6       isolated      13868\n",
       "7     decorative      13668\n",
       "8         symbol      13093\n",
       "9       elements      11917\n",
       "10         icons      11864\n",
       "11       concept      10487\n",
       "12    background       9936\n",
       "13          flat       8766\n",
       "14      internet       8336\n",
       "15    technology       8051\n",
       "16      template       8015\n",
       "17        layout       7628\n",
       "18          sign       7445\n",
       "19      computer       7047"
      ]
     },
     "execution_count": 22,
     "metadata": {},
     "output_type": "execute_result"
    }
   ],
   "source": [
    "freq[:20]"
   ]
  },
  {
   "cell_type": "code",
   "execution_count": 23,
   "metadata": {
    "collapsed": false
   },
   "outputs": [
    {
     "data": {
      "text/html": [
       "<div>\n",
       "<table border=\"1\" class=\"dataframe\">\n",
       "  <thead>\n",
       "    <tr style=\"text-align: right;\">\n",
       "      <th></th>\n",
       "      <th>frequency</th>\n",
       "    </tr>\n",
       "  </thead>\n",
       "  <tbody>\n",
       "    <tr>\n",
       "      <th>count</th>\n",
       "      <td>15306.000000</td>\n",
       "    </tr>\n",
       "    <tr>\n",
       "      <th>mean</th>\n",
       "      <td>77.246047</td>\n",
       "    </tr>\n",
       "    <tr>\n",
       "      <th>std</th>\n",
       "      <td>564.671657</td>\n",
       "    </tr>\n",
       "    <tr>\n",
       "      <th>min</th>\n",
       "      <td>1.000000</td>\n",
       "    </tr>\n",
       "    <tr>\n",
       "      <th>25%</th>\n",
       "      <td>2.000000</td>\n",
       "    </tr>\n",
       "    <tr>\n",
       "      <th>50%</th>\n",
       "      <td>6.000000</td>\n",
       "    </tr>\n",
       "    <tr>\n",
       "      <th>75%</th>\n",
       "      <td>27.000000</td>\n",
       "    </tr>\n",
       "    <tr>\n",
       "      <th>max</th>\n",
       "      <td>24387.000000</td>\n",
       "    </tr>\n",
       "  </tbody>\n",
       "</table>\n",
       "</div>"
      ],
      "text/plain": [
       "          frequency\n",
       "count  15306.000000\n",
       "mean      77.246047\n",
       "std      564.671657\n",
       "min        1.000000\n",
       "25%        2.000000\n",
       "50%        6.000000\n",
       "75%       27.000000\n",
       "max    24387.000000"
      ]
     },
     "execution_count": 23,
     "metadata": {},
     "output_type": "execute_result"
    }
   ],
   "source": [
    "# distribution of frequencies of tags:\n",
    "# median = 6 occurrences in a dataset (is that enough to train a model?)\n",
    "# 25% of tags have 2 or less occurrences (that's definetely not enough)\n",
    "# so 25% of tags can't be predicted because of the lack of data\n",
    "# but 25% of tags have at least 27 occurrences (that's probably quite enough)#\\\n",
    "# so the model quite probably could be traind to distinguish them\n",
    "\n",
    "# 15,306 unique tags\n",
    "\n",
    "freq.describe()"
   ]
  },
  {
   "cell_type": "code",
   "execution_count": 24,
   "metadata": {
    "collapsed": false
   },
   "outputs": [
    {
     "data": {
      "text/plain": [
       "<matplotlib.axes._subplots.AxesSubplot at 0x20c52f9d68>"
      ]
     },
     "execution_count": 24,
     "metadata": {},
     "output_type": "execute_result"
    },
    {
     "data": {
      "image/png": "[encoded data removed]",
      "text/plain": [
       "<matplotlib.figure.Figure at 0x20b96bc9e8>"
      ]
     },
     "metadata": {},
     "output_type": "display_data"
    }
   ],
   "source": [
    "# distribution of tags' frequencies for all tags\n",
    "freq.plot(kind = 'area')"
   ]
  },
  {
   "cell_type": "code",
   "execution_count": 25,
   "metadata": {
    "collapsed": false,
    "scrolled": false
   },
   "outputs": [
    {
     "data": {
      "text/plain": [
       "<matplotlib.axes._subplots.AxesSubplot at 0x20c53898d0>"
      ]
     },
     "execution_count": 25,
     "metadata": {},
     "output_type": "execute_result"
    },
    {
     "data": {
      "image/png": "[encoded data removed]",
      "text/plain": [
       "<matplotlib.figure.Figure at 0x20c5463f60>"
      ]
     },
     "metadata": {},
     "output_type": "display_data"
    }
   ],
   "source": [
    "# distribution of tags' frequencies for tags with >1000 occurrences\n",
    "freq[freq['frequency']>1000].plot(kind = 'area')"
   ]
  },
  {
   "cell_type": "code",
   "execution_count": 26,
   "metadata": {
    "collapsed": false
   },
   "outputs": [
    {
     "data": {
      "text/plain": [
       "<matplotlib.axes._subplots.AxesSubplot at 0x20c53c62b0>"
      ]
     },
     "execution_count": 26,
     "metadata": {},
     "output_type": "execute_result"
    },
    {
     "data": {
      "image/png": "[encoded data removed]",
      "text/plain": [
       "<matplotlib.figure.Figure at 0x20c53d2278>"
      ]
     },
     "metadata": {},
     "output_type": "display_data"
    }
   ],
   "source": [
    "# distribution of tags' frequencies for tags with <1000 occurrences\n",
    "freq[freq['frequency']<=1000].plot(kind = 'area')"
   ]
  },
  {
   "cell_type": "code",
   "execution_count": 27,
   "metadata": {
    "collapsed": false
   },
   "outputs": [
    {
     "data": {
      "text/plain": [
       "3057"
      ]
     },
     "execution_count": 27,
     "metadata": {},
     "output_type": "execute_result"
    }
   ],
   "source": [
    "# если какой-то таг присутствует 1 раз, (можно обобщить, как менее X раз)\n",
    "# то его нельзя научиться распозновать\n",
    "# можно только \"работать с текстом\" - считать, с какими комбинациями текста этот тег встречается,\n",
    "# и затем добавлять его в прогнозы на такой основе\n",
    "# оставим эту задачу на 2-ой этап. сначала - распознование изображений\n",
    "len(freq[freq['frequency']==1])"
   ]
  },
  {
   "cell_type": "code",
   "execution_count": 28,
   "metadata": {
    "collapsed": false
   },
   "outputs": [],
   "source": [
    "# plot_pics_sizes_distribution(pics_sizes = pics_df['pic_size'])"
   ]
  },
  {
   "cell_type": "code",
   "execution_count": null,
   "metadata": {
    "collapsed": false
   },
   "outputs": [],
   "source": []
  },
  {
   "cell_type": "code",
   "execution_count": 29,
   "metadata": {
    "collapsed": false
   },
   "outputs": [
    {
     "data": {
      "text/plain": [
       "0.0"
      ]
     },
     "execution_count": 29,
     "metadata": {},
     "output_type": "execute_result"
    }
   ],
   "source": [
    "calc_share_of_imgs_based_on_resolution(height = 1024, width = 1024, pics_sizes = pics_df['pic_size'])\n",
    "# 82% of all pictures has the same resolution (82%) (squared 1024 x 1024)\n",
    "# at first let's train algo on them and\n",
    "# at second - think of how to manage with others (resizing, cropping etc.)"
   ]
  },
  {
   "cell_type": "markdown",
   "metadata": {
    "collapsed": false
   },
   "source": [
    "### 06 Convolutional Neural Network (CNN)"
   ]
  },
  {
   "cell_type": "code",
   "execution_count": 30,
   "metadata": {
    "collapsed": true
   },
   "outputs": [],
   "source": [
    "pics_df = pics_df[pics_df['pic_size'] == '(1024, 1024)'].reset_index(drop = True)\n",
    "# let's concentrate on squared images"
   ]
  },
  {
   "cell_type": "code",
   "execution_count": 31,
   "metadata": {
    "collapsed": false
   },
   "outputs": [
    {
     "data": {
      "text/plain": [
       "20189"
      ]
     },
     "execution_count": 31,
     "metadata": {},
     "output_type": "execute_result"
    }
   ],
   "source": [
    "#number of squarred picutres\n",
    "pics_df.shape[0]"
   ]
  },
  {
   "cell_type": "code",
   "execution_count": 32,
   "metadata": {
    "collapsed": false
   },
   "outputs": [
    {
     "data": {
      "text/html": [
       "<div>\n",
       "<table border=\"1\" class=\"dataframe\">\n",
       "  <thead>\n",
       "    <tr style=\"text-align: right;\">\n",
       "      <th></th>\n",
       "      <th>pic</th>\n",
       "      <th>pic_size</th>\n",
       "      <th>tag</th>\n",
       "    </tr>\n",
       "  </thead>\n",
       "  <tbody>\n",
       "    <tr>\n",
       "      <th>0</th>\n",
       "      <td>1309.i001.002.S.m001.c17.Black Cat with Green Eyes.jpg</td>\n",
       "      <td>(1024, 1024)</td>\n",
       "      <td>['cat', 'black', 'pets', 'drawing', 'green', 'eyes', 'line', 'icon', 'tail', 'cartoon', 'white b...</td>\n",
       "    </tr>\n",
       "    <tr>\n",
       "      <th>1</th>\n",
       "      <td>1309.i001.003.S.m001.c17.Blue Moon.jpg</td>\n",
       "      <td>(1024, 1024)</td>\n",
       "      <td>['moon', 'crescent', 'blue moon', 'decoration', 'bedtime', 'magic', 'night', 'celebration', 'xma...</td>\n",
       "    </tr>\n",
       "  </tbody>\n",
       "</table>\n",
       "</div>"
      ],
      "text/plain": [
       "                                                      pic      pic_size  \\\n",
       "0  1309.i001.002.S.m001.c17.Black Cat with Green Eyes.jpg  (1024, 1024)   \n",
       "1                  1309.i001.003.S.m001.c17.Blue Moon.jpg  (1024, 1024)   \n",
       "\n",
       "                                                                                                   tag  \n",
       "0  ['cat', 'black', 'pets', 'drawing', 'green', 'eyes', 'line', 'icon', 'tail', 'cartoon', 'white b...  \n",
       "1  ['moon', 'crescent', 'blue moon', 'decoration', 'bedtime', 'magic', 'night', 'celebration', 'xma...  "
      ]
     },
     "execution_count": 32,
     "metadata": {},
     "output_type": "execute_result"
    }
   ],
   "source": [
    "pics_df[:2]"
   ]
  },
  {
   "cell_type": "code",
   "execution_count": 33,
   "metadata": {
    "collapsed": false
   },
   "outputs": [
    {
     "data": {
      "image/png": "[encoded data removed]",
      "text/plain": [
       "<PIL.Image.Image image mode=RGB size=128x128 at 0x20C53E7470>"
      ]
     },
     "execution_count": 33,
     "metadata": {},
     "output_type": "execute_result"
    }
   ],
   "source": [
    "# let's look at the image example\n",
    "img = Image.open(way_pics + \"\\\\\" + pics_df.ix[0,'pic'])\n",
    "img = img.resize((128,128),Image.ANTIALIAS)\n",
    "img"
   ]
  },
  {
   "cell_type": "code",
   "execution_count": 34,
   "metadata": {
    "collapsed": false
   },
   "outputs": [
    {
     "data": {
      "text/plain": [
       "array([[[255, 255, 255, ..., 255, 255, 255],\n",
       "        [255, 255, 255, ..., 255, 255, 255],\n",
       "        [255, 255, 255, ..., 255, 255, 255],\n",
       "        ..., \n",
       "        [  0,   0,   0, ..., 255, 255, 255],\n",
       "        [255, 255, 255, ...,   0,   4,   4],\n",
       "        [  4,   0,   0, ...,   0,   0,   2]],\n",
       "\n",
       "       [[  2,   2,   4, ..., 255, 255, 255],\n",
       "        [255, 255, 255, ...,   0,   2,   2],\n",
       "        [  2,   0,   0, ...,   0,   0,   1],\n",
       "        ..., \n",
       "        [255, 255, 255, ..., 254, 254, 255],\n",
       "        [255, 255, 255, ..., 255, 255, 255],\n",
       "        [255, 255, 255, ...,  37,  78,  78]],\n",
       "\n",
       "       [[ 78, 157, 157, ..., 251, 251, 255],\n",
       "        [255, 255, 255, ..., 255, 255, 255],\n",
       "        [255, 255, 255, ...,   0,   0,   0],\n",
       "        ..., \n",
       "        [255, 255, 255, ..., 255, 255, 255],\n",
       "        [255, 255, 255, ..., 255, 255, 255],\n",
       "        [255, 255, 255, ..., 255, 255, 255]]], dtype=uint8)"
      ]
     },
     "execution_count": 34,
     "metadata": {},
     "output_type": "execute_result"
    }
   ],
   "source": [
    "# that's how the input data would look like\n",
    "img = pic_open(way_pics = way_pics, pic = pics_df.ix[0,'pic'])\n",
    "img"
   ]
  },
  {
   "cell_type": "code",
   "execution_count": 35,
   "metadata": {
    "collapsed": true
   },
   "outputs": [],
   "source": [
    "# current build - 128x128 pix and 3 colors pics, 2 convolution layers, prediction of a single tag"
   ]
  },
  {
   "cell_type": "code",
   "execution_count": 36,
   "metadata": {
    "collapsed": false
   },
   "outputs": [],
   "source": [
    "y_target = pics_df['tag'].astype(str).str.contains('people')*1"
   ]
  },
  {
   "cell_type": "code",
   "execution_count": 37,
   "metadata": {
    "collapsed": false
   },
   "outputs": [],
   "source": [
    "# Making the train and the test dataset \n",
    "\n",
    "# target - binary variable\n",
    "# which contains a selected tag\n",
    "# 'pictogram' for example\n",
    "y_target = pics_df['tag'].astype(str).str.contains('car')*1\n",
    "\n",
    "\n",
    "y = y_target # all targets\n",
    "X = pics_df['pic'].values # all pics\n",
    "\n",
    "# X_train = X[0:20]\n",
    "# X_val = X[20:40]\n",
    "# y_train = y[0:20]\n",
    "# y_val = y[20:40]\n",
    "\n",
    "# X_train = X[0:300]\n",
    "# X_val = X[300:400]\n",
    "# y_train = y[0:300]\n",
    "# y_val = y[300:400]\n",
    "\n",
    "# X_train = X[0:100]\n",
    "# X_val = X[100:200]\n",
    "# y_train = y[0:100]\n",
    "# y_val = y[100:200]\n",
    "\n",
    "# X_train = X[0:1200]\n",
    "# X_val = X[1200:1800]\n",
    "# y_train = y[0:1200]\n",
    "# y_val = y[1200:1800]\n",
    "\n",
    "# X_train = X[0:10000]\n",
    "# X_val = X[10000:11000]\n",
    "# y_train = y[0:10000]\n",
    "# y_val = y[10000:11000]\n",
    "\n",
    "X_train = X[0:5000]\n",
    "X_val = X[5000:6000]\n",
    "y_train = y[0:5000]\n",
    "y_val = y[5000:6000]\n",
    "\n",
    "# X_train = X[1300:1400]\n",
    "# X_val = X[1300:1400]\n",
    "# y_train = y[1400:1500]\n",
    "# y_val = y[1400:1500]"
   ]
  },
  {
   "cell_type": "code",
   "execution_count": 38,
   "metadata": {
    "collapsed": false
   },
   "outputs": [
    {
     "name": "stdout",
     "output_type": "stream",
     "text": [
      "0.35667937986 positive rate in the whole dataset\n",
      "0.37 positive rate in the test dataset\n",
      "0.3082 positive rate in the train dataset\n"
     ]
    }
   ],
   "source": [
    "# to check how the train/test split is balanced\n",
    "# there is an option to implement an automatic balanced split via scikit-learn\n",
    "\n",
    "print(sum(y.values) / len(y), 'positive rate in the whole dataset')\n",
    "print(sum(y_val.values) / len(y_val), 'positive rate in the test dataset')\n",
    "print(sum(y_train.values) / len(y_train), 'positive rate in the train dataset')"
   ]
  },
  {
   "cell_type": "code",
   "execution_count": 39,
   "metadata": {
    "collapsed": false
   },
   "outputs": [],
   "source": [
    "# inputs for CNN\n",
    "\n",
    "input_X = T.tensor4(\"X\")\n",
    "target_y = T.vector(\"target Y integer\",dtype='int32')"
   ]
  },
  {
   "cell_type": "code",
   "execution_count": 40,
   "metadata": {
    "collapsed": false
   },
   "outputs": [],
   "source": [
    "# CNN Code\n",
    "    \n",
    "input_layer = lasagne.layers.InputLayer(shape=(None,1,200,200), input_var=input_X)\n",
    "conv_1 = lasagne.layers.Conv2DLayer(input_layer, 64, (3, 3),\n",
    "                                    nonlinearity=leaky_rectify, name=\"conv_1\")\n",
    "conv_2 = lasagne.layers.Conv2DLayer(conv_1, 32, (3, 3),\n",
    "                                    nonlinearity=leaky_rectify, name=\"conv_2\")\n",
    "pool = lasagne.layers.Pool2DLayer(conv_2, (3, 3), stride=2, mode='max', name=\"pool\")\n",
    "dense = lasagne.layers.DenseLayer(lasagne.layers.dropout(pool, 0.5),\n",
    "                                    128, nonlinearity=leaky_rectify,\n",
    "                                    W=lasagne.init.Orthogonal(), name=\"dense\")\n",
    "dense_output = lasagne.layers.DenseLayer(lasagne.layers.dropout(dense, 0.5),\n",
    "                                    2, nonlinearity=softmax, name=\"output\")"
   ]
  },
  {
   "cell_type": "code",
   "execution_count": 41,
   "metadata": {
    "collapsed": false
   },
   "outputs": [],
   "source": [
    "#предсказание нейронки (theano-преобразование)\n",
    "y_predicted = lasagne.layers.get_output(dense_output)"
   ]
  },
  {
   "cell_type": "code",
   "execution_count": 42,
   "metadata": {
    "collapsed": false
   },
   "outputs": [
    {
     "name": "stdout",
     "output_type": "stream",
     "text": [
      "[conv_1.W, conv_1.b, conv_2.W, conv_2.b, dense.W, dense.b, output.W, output.b]\n"
     ]
    }
   ],
   "source": [
    "#все веса нейронки (shared-переменные)\n",
    "all_weights = lasagne.layers.get_all_params(dense_output)\n",
    "print(all_weights)"
   ]
  },
  {
   "cell_type": "code",
   "execution_count": 43,
   "metadata": {
    "collapsed": false
   },
   "outputs": [],
   "source": [
    "#функция ошибки - средняя кроссэнтропия\n",
    "loss = lasagne.objectives.categorical_crossentropy(y_predicted,target_y).mean()\n",
    "\n",
    "# точность, чтобы трекать и ее в том числе\n",
    "accuracy = lasagne.objectives.categorical_accuracy(y_predicted,target_y).mean()\n",
    "\n",
    "#сразу посчитать словарь обновлённых значений с шагом по градиенту, как раньше\n",
    "updates_sgd = lasagne.updates.rmsprop(loss, all_weights,learning_rate=0.00001)"
   ]
  },
  {
   "cell_type": "code",
   "execution_count": 44,
   "metadata": {
    "collapsed": true
   },
   "outputs": [],
   "source": [
    "#функция, которая обучает сеть на 1 шаг и возвращащет значение функции потерь и точности\n",
    "train_fun = theano.function([input_X,target_y],[loss,accuracy],updates= updates_sgd)\n",
    "\n",
    "#функция, которая считает точность\n",
    "accuracy_fun = theano.function([input_X,target_y],accuracy)"
   ]
  },
  {
   "cell_type": "code",
   "execution_count": 45,
   "metadata": {
    "collapsed": true
   },
   "outputs": [],
   "source": [
    "# prediction funciton with the trained network\n",
    "predict_function = theano.function([input_X], y_predicted)"
   ]
  },
  {
   "cell_type": "code",
   "execution_count": 46,
   "metadata": {
    "collapsed": false
   },
   "outputs": [],
   "source": [
    "def batch_return(pics_names_set,way_pics=way_pics, prepoc_type = 'default'):\n",
    "    if prepoc_type == 'default':\n",
    "        # support funciton for iterate_minibatches function\n",
    "        # gets array of pic names\n",
    "        # returns array of inputs for CNN\n",
    "        # reads number of images with known names\n",
    "        # resizes them (if needed)\n",
    "        # converts shape as needed\n",
    "        batch_return_data = []\n",
    "        for i in pics_names_set:\n",
    "            img = Image.open(way_pics + \"\\\\\" + i).convert('RGB') # sometimes there is CMYK\n",
    "            img = img.resize((128,128),Image.ANTIALIAS)\n",
    "            img = np.reshape(img, (3,128,128))\n",
    "    #         if len(batch_return_data)!=0:\n",
    "    #         print(i)\n",
    "            batch_return_data.append(img)\n",
    "\n",
    "    #         else:\n",
    "    #             batch_return_data = np.array(img)\n",
    "        return np.array(batch_return_data)\n",
    "    if prepoc_type == 'borders':\n",
    "        thresh_canny = 15\n",
    "        batch_return_data = []\n",
    "        for i in pics_names_set:\n",
    "            img = Image.open(way_pics + \"\\\\\" + i).convert('RGB') # sometimes there is CMYK\n",
    "            img = img.resize((200,200),Image.ANTIALIAS)\n",
    "            img = cv2.cvtColor(np.array(img),cv2.COLOR_BGR2GRAY)\n",
    "            img = cv2.blur(img,(3,3))\n",
    "            img = cv2.Canny(img, thresh_canny, thresh_canny*3, 3)\n",
    "            img = np.reshape(img, (1,200,200))\n",
    "            batch_return_data.append(img)\n",
    "        return np.array(batch_return_data)\n",
    "    else:\n",
    "        raise error"
   ]
  },
  {
   "cell_type": "code",
   "execution_count": 47,
   "metadata": {
    "collapsed": true
   },
   "outputs": [],
   "source": [
    "# вспомогательная функция, которая возвращает список мини-батчей для обучения нейронки\n",
    "\n",
    "#на вход\n",
    "# inputs - тензор из картинок размером (много, 1, 28, 28), например - X_train\n",
    "# targets - вектор из чиселок - ответов для каждой картинки из X; например - Y_train\n",
    "# batchsize - одно число - желаемый размер группы\n",
    "\n",
    "#что нужно сделать\n",
    "# 1) перемешать данные\n",
    "# - важно перемешать targets и targets одним и тем же образом, чтобы сохранить соответствие картинки ответу на неё\n",
    "# 3) побить данные на подгруппы так, чтобы в каждой подгруппе было batchsize картинок и ответов\n",
    "# - если число картинок не делится на batchsize, одну подгруппу можно вернуть другого размера\n",
    "def iterate_minibatches(inputs, targets, batchsize, shuffle=False, prepoc_type = 'default'):\n",
    "    assert len(inputs) == len(targets)\n",
    "    if shuffle:\n",
    "        indices = np.arange(len(inputs))\n",
    "        np.random.shuffle(indices)\n",
    "    for start_idx in range(0, len(inputs) - batchsize + 1, batchsize):\n",
    "        if shuffle:\n",
    "            excerpt = indices[start_idx:start_idx + batchsize]\n",
    "        else:\n",
    "            excerpt = slice(start_idx, start_idx + batchsize)\n",
    "        yield batch_return(pics_names_set = inputs[excerpt],\n",
    "                          prepoc_type = prepoc_type), targets[excerpt] # pics"
   ]
  },
  {
   "cell_type": "code",
   "execution_count": 48,
   "metadata": {
    "collapsed": false
   },
   "outputs": [],
   "source": [
    "# # CNN training cycle\n",
    "# # may take much time (hours/days depending on parameters)\n",
    "\n",
    "# # prepoc_type = 'default'\n",
    "\n",
    "\n",
    "# import time\n",
    "\n",
    "# num_epochs = 100 #количество проходов по данным\n",
    "\n",
    "# batch_size = 50 #размер мини-батча\n",
    "\n",
    "# for epoch in range(num_epochs):\n",
    "#     # In each epoch, we do a full pass over the training data:\n",
    "#     train_err = 0\n",
    "#     train_acc = 0\n",
    "#     train_batches = 0\n",
    "#     start_time = time.time()\n",
    "#     for batch in iterate_minibatches(X_train, y_train,batch_size, prepoc_type = 'borders'):\n",
    "#         inputs, targets = batch\n",
    "#         train_err_batch, train_acc_batch= train_fun(inputs, targets)\n",
    "#         train_err += train_err_batch\n",
    "#         train_acc += train_acc_batch\n",
    "#         train_batches += 1\n",
    "\n",
    "#     # And a full pass over the validation data:\n",
    "#     val_acc = 0\n",
    "#     val_batches = 0\n",
    "#     for batch in iterate_minibatches(X_val, y_val, batch_size):\n",
    "#         inputs, targets = batch\n",
    "#         val_acc += accuracy_fun(inputs, targets)\n",
    "#         val_batches += 1\n",
    "\n",
    "    \n",
    "#     # Then we print the results for this epoch:\n",
    "#     print(\"Epoch {} of {} took {:.3f}s\".format(\n",
    "#         epoch + 1, num_epochs, time.time() - start_time))\n",
    "\n",
    "#     print(\"  training loss (in-iteration):\\t\\t{:.6f}\".format(train_err / train_batches))\n",
    "#     print(\"  train accuracy:\\t\\t{:.2f} %\".format(\n",
    "#         train_acc / train_batches * 100))\n",
    "#     print(\"  validation accuracy:\\t\\t{:.2f} %\".format(\n",
    "#         val_acc / val_batches * 100))"
   ]
  },
  {
   "cell_type": "code",
   "execution_count": 49,
   "metadata": {
    "collapsed": false
   },
   "outputs": [
    {
     "name": "stdout",
     "output_type": "stream",
     "text": [
      "1311.i010.008.S.m001.c10.christmas invitation.jpg\n",
      "1\n"
     ]
    },
    {
     "ename": "ValueError",
     "evalue": "The hardcoded shape for the image stack size (1) isn't the run time shape (3).\nApply node that caused the error: ConvOp{('imshp', (1, 200, 200)),('kshp', (3, 3)),('nkern', 64),('bsize', None),('dx', 1),('dy', 1),('out_mode', 'valid'),('unroll_batch', None),('unroll_kern', None),('unroll_patch', True),('imshp_logical', (1, 200, 200)),('kshp_logical', (3, 3)),('kshp_logical_top_aligned', True)}(X, conv_1.W)\nToposort index: 5\nInputs types: [TensorType(float64, 4D), TensorType(float64, (False, True, False, False))]\nInputs shapes: [(1, 3, 128, 128), (64, 1, 3, 3)]\nInputs strides: [(393216, 131072, 1024, 8), (72, 72, 24, 8)]\nInputs values: ['not shown', 'not shown']\nOutputs clients: [[Elemwise{Composite{((i0 * (i1 + i2)) + (i3 * Abs((i1 + i2))))}}[(0, 1)](TensorConstant{(1, 1, 1, ..) of 0.505}, ConvOp{('imshp', (1, 200, 200)),('kshp', (3, 3)),('nkern', 64),('bsize', None),('dx', 1),('dy', 1),('out_mode', 'valid'),('unroll_batch', None),('unroll_kern', None),('unroll_patch', True),('imshp_logical', (1, 200, 200)),('kshp_logical', (3, 3)),('kshp_logical_top_aligned', True)}.0, InplaceDimShuffle{x,0,x,x}.0, TensorConstant{(1, 1, 1, ..) of 0.495})]]\n\nBacktrace when the node is created(use Theano flag traceback.limit=N to make it longer):\n  File \"C:\\Anaconda3\\lib\\site-packages\\ipykernel\\zmqshell.py\", line 501, in run_cell\n    return super(ZMQInteractiveShell, self).run_cell(*args, **kwargs)\n  File \"C:\\Anaconda3\\lib\\site-packages\\IPython\\core\\interactiveshell.py\", line 2717, in run_cell\n    interactivity=interactivity, compiler=compiler, result=result)\n  File \"C:\\Anaconda3\\lib\\site-packages\\IPython\\core\\interactiveshell.py\", line 2821, in run_ast_nodes\n    if self.run_code(code, result):\n  File \"C:\\Anaconda3\\lib\\site-packages\\IPython\\core\\interactiveshell.py\", line 2881, in run_code\n    exec(code_obj, self.user_global_ns, self.user_ns)\n  File \"<ipython-input-41-251198cc175e>\", line 2, in <module>\n    y_predicted = lasagne.layers.get_output(dense_output)\n  File \"C:\\Anaconda3\\lib\\site-packages\\lasagne\\layers\\helper.py\", line 191, in get_output\n    all_outputs[layer] = layer.get_output_for(layer_inputs, **kwargs)\n  File \"C:\\Anaconda3\\lib\\site-packages\\lasagne\\layers\\conv.py\", line 330, in get_output_for\n    conved = self.convolve(input, **kwargs)\n  File \"C:\\Anaconda3\\lib\\site-packages\\lasagne\\layers\\conv.py\", line 608, in convolve\n    filter_flip=self.flip_filters)\n\nHINT: Use the Theano flag 'exception_verbosity=high' for a debugprint and storage map footprint of this apply node.",
     "output_type": "error",
     "traceback": [
      "\u001b[0;31m---------------------------------------------------------------------------\u001b[0m",
      "\u001b[0;31mValueError\u001b[0m                                Traceback (most recent call last)",
      "\u001b[0;32mC:\\Anaconda3\\lib\\site-packages\\theano\\compile\\function_module.py\u001b[0m in \u001b[0;36m__call__\u001b[0;34m(self, *args, **kwargs)\u001b[0m\n\u001b[1;32m    858\u001b[0m         \u001b[1;32mtry\u001b[0m\u001b[1;33m:\u001b[0m\u001b[1;33m\u001b[0m\u001b[0m\n\u001b[0;32m--> 859\u001b[0;31m             \u001b[0moutputs\u001b[0m \u001b[1;33m=\u001b[0m \u001b[0mself\u001b[0m\u001b[1;33m.\u001b[0m\u001b[0mfn\u001b[0m\u001b[1;33m(\u001b[0m\u001b[1;33m)\u001b[0m\u001b[1;33m\u001b[0m\u001b[0m\n\u001b[0m\u001b[1;32m    860\u001b[0m         \u001b[1;32mexcept\u001b[0m \u001b[0mException\u001b[0m\u001b[1;33m:\u001b[0m\u001b[1;33m\u001b[0m\u001b[0m\n",
      "\u001b[0;31mValueError\u001b[0m: The hardcoded shape for the image stack size (1) isn't the run time shape (3).",
      "\nDuring handling of the above exception, another exception occurred:\n",
      "\u001b[0;31mValueError\u001b[0m                                Traceback (most recent call last)",
      "\u001b[0;32m<ipython-input-49-b231f50cf6e2>\u001b[0m in \u001b[0;36m<module>\u001b[0;34m()\u001b[0m\n\u001b[1;32m     11\u001b[0m \u001b[0mZ\u001b[0m \u001b[1;33m=\u001b[0m \u001b[0mnp\u001b[0m\u001b[1;33m.\u001b[0m\u001b[0marray\u001b[0m\u001b[1;33m(\u001b[0m\u001b[1;33m[\u001b[0m\u001b[0mimg\u001b[0m\u001b[1;33m]\u001b[0m\u001b[1;33m)\u001b[0m\u001b[1;33m\u001b[0m\u001b[0m\n\u001b[1;32m     12\u001b[0m \u001b[1;33m\u001b[0m\u001b[0m\n\u001b[0;32m---> 13\u001b[0;31m \u001b[0mpredict_function\u001b[0m\u001b[1;33m(\u001b[0m\u001b[0mZ\u001b[0m\u001b[1;33m)\u001b[0m \u001b[1;31m# prediction of the CNN\u001b[0m\u001b[1;33m\u001b[0m\u001b[0m\n\u001b[0m",
      "\u001b[0;32mC:\\Anaconda3\\lib\\site-packages\\theano\\compile\\function_module.py\u001b[0m in \u001b[0;36m__call__\u001b[0;34m(self, *args, **kwargs)\u001b[0m\n\u001b[1;32m    869\u001b[0m                     \u001b[0mnode\u001b[0m\u001b[1;33m=\u001b[0m\u001b[0mself\u001b[0m\u001b[1;33m.\u001b[0m\u001b[0mfn\u001b[0m\u001b[1;33m.\u001b[0m\u001b[0mnodes\u001b[0m\u001b[1;33m[\u001b[0m\u001b[0mself\u001b[0m\u001b[1;33m.\u001b[0m\u001b[0mfn\u001b[0m\u001b[1;33m.\u001b[0m\u001b[0mposition_of_error\u001b[0m\u001b[1;33m]\u001b[0m\u001b[1;33m,\u001b[0m\u001b[1;33m\u001b[0m\u001b[0m\n\u001b[1;32m    870\u001b[0m                     \u001b[0mthunk\u001b[0m\u001b[1;33m=\u001b[0m\u001b[0mthunk\u001b[0m\u001b[1;33m,\u001b[0m\u001b[1;33m\u001b[0m\u001b[0m\n\u001b[0;32m--> 871\u001b[0;31m                     storage_map=getattr(self.fn, 'storage_map', None))\n\u001b[0m\u001b[1;32m    872\u001b[0m             \u001b[1;32melse\u001b[0m\u001b[1;33m:\u001b[0m\u001b[1;33m\u001b[0m\u001b[0m\n\u001b[1;32m    873\u001b[0m                 \u001b[1;31m# old-style linkers raise their own exceptions\u001b[0m\u001b[1;33m\u001b[0m\u001b[1;33m\u001b[0m\u001b[0m\n",
      "\u001b[0;32mC:\\Anaconda3\\lib\\site-packages\\theano\\gof\\link.py\u001b[0m in \u001b[0;36mraise_with_op\u001b[0;34m(node, thunk, exc_info, storage_map)\u001b[0m\n\u001b[1;32m    312\u001b[0m         \u001b[1;31m# extra long error message in that case.\u001b[0m\u001b[1;33m\u001b[0m\u001b[1;33m\u001b[0m\u001b[0m\n\u001b[1;32m    313\u001b[0m         \u001b[1;32mpass\u001b[0m\u001b[1;33m\u001b[0m\u001b[0m\n\u001b[0;32m--> 314\u001b[0;31m     \u001b[0mreraise\u001b[0m\u001b[1;33m(\u001b[0m\u001b[0mexc_type\u001b[0m\u001b[1;33m,\u001b[0m \u001b[0mexc_value\u001b[0m\u001b[1;33m,\u001b[0m \u001b[0mexc_trace\u001b[0m\u001b[1;33m)\u001b[0m\u001b[1;33m\u001b[0m\u001b[0m\n\u001b[0m\u001b[1;32m    315\u001b[0m \u001b[1;33m\u001b[0m\u001b[0m\n\u001b[1;32m    316\u001b[0m \u001b[1;33m\u001b[0m\u001b[0m\n",
      "\u001b[0;32mC:\\Anaconda3\\lib\\site-packages\\six.py\u001b[0m in \u001b[0;36mreraise\u001b[0;34m(tp, value, tb)\u001b[0m\n\u001b[1;32m    683\u001b[0m             \u001b[0mvalue\u001b[0m \u001b[1;33m=\u001b[0m \u001b[0mtp\u001b[0m\u001b[1;33m(\u001b[0m\u001b[1;33m)\u001b[0m\u001b[1;33m\u001b[0m\u001b[0m\n\u001b[1;32m    684\u001b[0m         \u001b[1;32mif\u001b[0m \u001b[0mvalue\u001b[0m\u001b[1;33m.\u001b[0m\u001b[0m__traceback__\u001b[0m \u001b[1;32mis\u001b[0m \u001b[1;32mnot\u001b[0m \u001b[0mtb\u001b[0m\u001b[1;33m:\u001b[0m\u001b[1;33m\u001b[0m\u001b[0m\n\u001b[0;32m--> 685\u001b[0;31m             \u001b[1;32mraise\u001b[0m \u001b[0mvalue\u001b[0m\u001b[1;33m.\u001b[0m\u001b[0mwith_traceback\u001b[0m\u001b[1;33m(\u001b[0m\u001b[0mtb\u001b[0m\u001b[1;33m)\u001b[0m\u001b[1;33m\u001b[0m\u001b[0m\n\u001b[0m\u001b[1;32m    686\u001b[0m         \u001b[1;32mraise\u001b[0m \u001b[0mvalue\u001b[0m\u001b[1;33m\u001b[0m\u001b[0m\n\u001b[1;32m    687\u001b[0m \u001b[1;33m\u001b[0m\u001b[0m\n",
      "\u001b[0;32mC:\\Anaconda3\\lib\\site-packages\\theano\\compile\\function_module.py\u001b[0m in \u001b[0;36m__call__\u001b[0;34m(self, *args, **kwargs)\u001b[0m\n\u001b[1;32m    857\u001b[0m         \u001b[0mt0_fn\u001b[0m \u001b[1;33m=\u001b[0m \u001b[0mtime\u001b[0m\u001b[1;33m.\u001b[0m\u001b[0mtime\u001b[0m\u001b[1;33m(\u001b[0m\u001b[1;33m)\u001b[0m\u001b[1;33m\u001b[0m\u001b[0m\n\u001b[1;32m    858\u001b[0m         \u001b[1;32mtry\u001b[0m\u001b[1;33m:\u001b[0m\u001b[1;33m\u001b[0m\u001b[0m\n\u001b[0;32m--> 859\u001b[0;31m             \u001b[0moutputs\u001b[0m \u001b[1;33m=\u001b[0m \u001b[0mself\u001b[0m\u001b[1;33m.\u001b[0m\u001b[0mfn\u001b[0m\u001b[1;33m(\u001b[0m\u001b[1;33m)\u001b[0m\u001b[1;33m\u001b[0m\u001b[0m\n\u001b[0m\u001b[1;32m    860\u001b[0m         \u001b[1;32mexcept\u001b[0m \u001b[0mException\u001b[0m\u001b[1;33m:\u001b[0m\u001b[1;33m\u001b[0m\u001b[0m\n\u001b[1;32m    861\u001b[0m             \u001b[1;32mif\u001b[0m \u001b[0mhasattr\u001b[0m\u001b[1;33m(\u001b[0m\u001b[0mself\u001b[0m\u001b[1;33m.\u001b[0m\u001b[0mfn\u001b[0m\u001b[1;33m,\u001b[0m \u001b[1;34m'position_of_error'\u001b[0m\u001b[1;33m)\u001b[0m\u001b[1;33m:\u001b[0m\u001b[1;33m\u001b[0m\u001b[0m\n",
      "\u001b[0;31mValueError\u001b[0m: The hardcoded shape for the image stack size (1) isn't the run time shape (3).\nApply node that caused the error: ConvOp{('imshp', (1, 200, 200)),('kshp', (3, 3)),('nkern', 64),('bsize', None),('dx', 1),('dy', 1),('out_mode', 'valid'),('unroll_batch', None),('unroll_kern', None),('unroll_patch', True),('imshp_logical', (1, 200, 200)),('kshp_logical', (3, 3)),('kshp_logical_top_aligned', True)}(X, conv_1.W)\nToposort index: 5\nInputs types: [TensorType(float64, 4D), TensorType(float64, (False, True, False, False))]\nInputs shapes: [(1, 3, 128, 128), (64, 1, 3, 3)]\nInputs strides: [(393216, 131072, 1024, 8), (72, 72, 24, 8)]\nInputs values: ['not shown', 'not shown']\nOutputs clients: [[Elemwise{Composite{((i0 * (i1 + i2)) + (i3 * Abs((i1 + i2))))}}[(0, 1)](TensorConstant{(1, 1, 1, ..) of 0.505}, ConvOp{('imshp', (1, 200, 200)),('kshp', (3, 3)),('nkern', 64),('bsize', None),('dx', 1),('dy', 1),('out_mode', 'valid'),('unroll_batch', None),('unroll_kern', None),('unroll_patch', True),('imshp_logical', (1, 200, 200)),('kshp_logical', (3, 3)),('kshp_logical_top_aligned', True)}.0, InplaceDimShuffle{x,0,x,x}.0, TensorConstant{(1, 1, 1, ..) of 0.495})]]\n\nBacktrace when the node is created(use Theano flag traceback.limit=N to make it longer):\n  File \"C:\\Anaconda3\\lib\\site-packages\\ipykernel\\zmqshell.py\", line 501, in run_cell\n    return super(ZMQInteractiveShell, self).run_cell(*args, **kwargs)\n  File \"C:\\Anaconda3\\lib\\site-packages\\IPython\\core\\interactiveshell.py\", line 2717, in run_cell\n    interactivity=interactivity, compiler=compiler, result=result)\n  File \"C:\\Anaconda3\\lib\\site-packages\\IPython\\core\\interactiveshell.py\", line 2821, in run_ast_nodes\n    if self.run_code(code, result):\n  File \"C:\\Anaconda3\\lib\\site-packages\\IPython\\core\\interactiveshell.py\", line 2881, in run_code\n    exec(code_obj, self.user_global_ns, self.user_ns)\n  File \"<ipython-input-41-251198cc175e>\", line 2, in <module>\n    y_predicted = lasagne.layers.get_output(dense_output)\n  File \"C:\\Anaconda3\\lib\\site-packages\\lasagne\\layers\\helper.py\", line 191, in get_output\n    all_outputs[layer] = layer.get_output_for(layer_inputs, **kwargs)\n  File \"C:\\Anaconda3\\lib\\site-packages\\lasagne\\layers\\conv.py\", line 330, in get_output_for\n    conved = self.convolve(input, **kwargs)\n  File \"C:\\Anaconda3\\lib\\site-packages\\lasagne\\layers\\conv.py\", line 608, in convolve\n    filter_flip=self.flip_filters)\n\nHINT: Use the Theano flag 'exception_verbosity=high' for a debugprint and storage map footprint of this apply node."
     ]
    }
   ],
   "source": [
    "# some code for checking the prediciton on the new data\n",
    "\n",
    "i = 261 # item id\n",
    "print(X[i]) # item\n",
    "print(y[i]) # actual target of the item\n",
    "\n",
    "# input for the CNN\n",
    "img = Image.open(way_pics + \"\\\\\" + X[i])\n",
    "img = img.resize((128,128),Image.ANTIALIAS)\n",
    "img = np.reshape(img, (3,128,128))\n",
    "Z = np.array([img]) \n",
    "\n",
    "predict_function(Z) # prediction of the CNN"
   ]
  },
  {
   "cell_type": "code",
   "execution_count": null,
   "metadata": {
    "collapsed": false
   },
   "outputs": [],
   "source": []
  },
  {
   "cell_type": "code",
   "execution_count": 50,
   "metadata": {
    "collapsed": false
   },
   "outputs": [
    {
     "name": "stdout",
     "output_type": "stream",
     "text": [
      "Help on TensorSharedVariable in module theano.tensor.sharedvar object:\n",
      "\n",
      "class TensorSharedVariable(theano.tensor.var._tensor_py_operators, theano.compile.sharedvalue.SharedVariable)\n",
      " |  Variable that is (defaults to being) shared between functions that\n",
      " |  it appears in.\n",
      " |  \n",
      " |  Parameters\n",
      " |  ----------\n",
      " |  name : str\n",
      " |      The name for this variable (see `Variable`).\n",
      " |  type : str\n",
      " |      The type for this variable (see `Variable`).\n",
      " |  value\n",
      " |      A value to associate with this variable (a new container will be\n",
      " |      created).\n",
      " |  strict\n",
      " |      True : assignments to .value will not be cast or copied, so they must\n",
      " |      have the correct type.\n",
      " |  allow_downcast\n",
      " |      Only applies if `strict` is False.\n",
      " |      True : allow assigned value to lose precision when cast during\n",
      " |      assignment.\n",
      " |      False : never allow precision loss.\n",
      " |      None : only allow downcasting of a Python float to a scalar floatX.\n",
      " |  container\n",
      " |      The container to use for this variable. Illegal to pass this as well as\n",
      " |      a value.\n",
      " |  \n",
      " |  Notes\n",
      " |  -----\n",
      " |  For more user-friendly constructor, see `shared`.\n",
      " |  \n",
      " |  Method resolution order:\n",
      " |      TensorSharedVariable\n",
      " |      theano.tensor.var._tensor_py_operators\n",
      " |      theano.compile.sharedvalue.SharedVariable\n",
      " |      theano.gof.graph.Variable\n",
      " |      theano.gof.graph.Node\n",
      " |      theano.gof.utils.object2\n",
      " |      builtins.object\n",
      " |  \n",
      " |  Methods inherited from theano.tensor.var._tensor_py_operators:\n",
      " |  \n",
      " |  __abs__(self)\n",
      " |      # UNARY\n",
      " |  \n",
      " |  __add__(self, other)\n",
      " |      # ARITHMETIC - NORMAL\n",
      " |  \n",
      " |  __and__(self, other)\n",
      " |  \n",
      " |  __bool__(self)\n",
      " |  \n",
      " |  __div__(self, other)\n",
      " |  \n",
      " |  __divmod__(self, other)\n",
      " |  \n",
      " |  __dot__(left, right)\n",
      " |      # extra pseudo-operator symbols\n",
      " |  \n",
      " |  __floordiv__(self, other)\n",
      " |  \n",
      " |  __ge__(self, other)\n",
      " |      Return self>=value.\n",
      " |  \n",
      " |  __getitem__(self, args)\n",
      " |      # SLICING/INDEXING\n",
      " |  \n",
      " |  __gt__(self, other)\n",
      " |      Return self>value.\n",
      " |  \n",
      " |  __invert__(self)\n",
      " |      # BITWISE\n",
      " |  \n",
      " |  __iter__(self)\n",
      " |  \n",
      " |  __le__(self, other)\n",
      " |      Return self<=value.\n",
      " |  \n",
      " |  __lt__(self, other)\n",
      " |      Return self<value.\n",
      " |  \n",
      " |  __mod__(self, other)\n",
      " |  \n",
      " |  __mul__(self, other)\n",
      " |  \n",
      " |  __neg__(self)\n",
      " |  \n",
      " |  __nonzero__(self)\n",
      " |  \n",
      " |  __or__(self, other)\n",
      " |  \n",
      " |  __pow__(self, other)\n",
      " |  \n",
      " |  __radd__(self, other)\n",
      " |      # ARITHMETIC - RIGHT-OPERAND\n",
      " |  \n",
      " |  __rand__(self, other)\n",
      " |  \n",
      " |  __rdiv__(self, other)\n",
      " |  \n",
      " |  __rdivmod__(self, other)\n",
      " |  \n",
      " |  __rdot__(right, left)\n",
      " |  \n",
      " |  __rfloordiv__(self, other)\n",
      " |  \n",
      " |  __rmod__(self, other)\n",
      " |  \n",
      " |  __rmul__(self, other)\n",
      " |  \n",
      " |  __ror__(self, other)\n",
      " |  \n",
      " |  __rpow__(self, other)\n",
      " |  \n",
      " |  __rsub__(self, other)\n",
      " |  \n",
      " |  __rtruediv__(self, other)\n",
      " |  \n",
      " |  __rxor__(self, other)\n",
      " |  \n",
      " |  __sub__(self, other)\n",
      " |  \n",
      " |  __truediv__(self, other)\n",
      " |  \n",
      " |  __xor__(self, other)\n",
      " |  \n",
      " |  all(self, axis=None, keepdims=False)\n",
      " |  \n",
      " |  any(self, axis=None, keepdims=False)\n",
      " |      # We can't implement __len__ to provide a better error message.\n",
      " |  \n",
      " |  arccos(self)\n",
      " |      # Elemwise\n",
      " |  \n",
      " |  arccosh(self)\n",
      " |  \n",
      " |  arcsin(self)\n",
      " |  \n",
      " |  arcsinh(self)\n",
      " |  \n",
      " |  arctan(self)\n",
      " |  \n",
      " |  arctanh(self)\n",
      " |  \n",
      " |  argmax(self, axis=None, keepdims=False)\n",
      " |      See `theano.tensor.argmax`.\n",
      " |  \n",
      " |  argmin(self, axis=None, keepdims=False)\n",
      " |      See `theano.tensor.argmin`.\n",
      " |  \n",
      " |  argsort(self, axis=-1, kind='quicksort', order=None)\n",
      " |      See `theano.tensor.argsort`.\n",
      " |  \n",
      " |  astype(self, dtype)\n",
      " |      # CASTING\n",
      " |  \n",
      " |  ceil(self)\n",
      " |  \n",
      " |  choose(self, a, choices, out=None, mode='raise')\n",
      " |      Construct an array from an index array and a set of arrays to choose\n",
      " |      from.\n",
      " |  \n",
      " |  clip(self, a_min, a_max)\n",
      " |      Clip (limit) the values in an array.\n",
      " |  \n",
      " |  compress(self, a, axis=None)\n",
      " |      Return selected slices only.\n",
      " |  \n",
      " |  conj(self)\n",
      " |      See `theano.tensor.conj`.\n",
      " |  \n",
      " |  conjugate = conj(self)\n",
      " |      See `theano.tensor.conj`.\n",
      " |  \n",
      " |  copy(self, name=None)\n",
      " |      Return a symbolic copy and optionally assign a name.\n",
      " |      \n",
      " |      Does not copy the tags.\n",
      " |  \n",
      " |  cos(self)\n",
      " |  \n",
      " |  cosh(self)\n",
      " |  \n",
      " |  cumprod(self, axis=None)\n",
      " |  \n",
      " |  cumsum(self, axis=None)\n",
      " |  \n",
      " |  deg2rad(self)\n",
      " |  \n",
      " |  diagonal(self, offset=0, axis1=0, axis2=1)\n",
      " |  \n",
      " |  dimshuffle(self, *pattern)\n",
      " |      Reorder the dimensions of this variable, optionally inserting\n",
      " |      broadcasted dimensions.\n",
      " |      \n",
      " |      Parameters\n",
      " |      ----------\n",
      " |      pattern\n",
      " |          List/tuple of int mixed with 'x' for broadcastable dimensions.\n",
      " |      \n",
      " |      Examples\n",
      " |      --------\n",
      " |      For example, to create a 3D view of a [2D] matrix, call\n",
      " |      ``dimshuffle([0,'x',1])``.  This will create a 3D view such that the\n",
      " |      middle dimension is an implicit broadcasted dimension.  To do the same\n",
      " |      thing on the transpose of that matrix, call ``dimshuffle([1, 'x', 0])``.\n",
      " |      \n",
      " |      Notes\n",
      " |      -----\n",
      " |      This function supports the pattern passed as a tuple, or as a\n",
      " |      variable-length argument (e.g. ``a.dimshuffle(pattern)`` is equivalent\n",
      " |      to ``a.dimshuffle(*pattern)`` where ``pattern`` is a list/tuple of ints\n",
      " |      mixed with 'x' characters).\n",
      " |      \n",
      " |      See Also\n",
      " |      --------\n",
      " |      DimShuffle\n",
      " |  \n",
      " |  dot = __dot__(left, right)\n",
      " |      # extra pseudo-operator symbols\n",
      " |  \n",
      " |  exp(self)\n",
      " |  \n",
      " |  exp2(self)\n",
      " |  \n",
      " |  expm1(self)\n",
      " |  \n",
      " |  fill(self, value)\n",
      " |      Fill inputted tensor with the assigned value.\n",
      " |  \n",
      " |  flatten(self, ndim=1)\n",
      " |  \n",
      " |  floor(self)\n",
      " |  \n",
      " |  get_scalar_constant_value(self)\n",
      " |  \n",
      " |  log(self)\n",
      " |  \n",
      " |  log10(self)\n",
      " |  \n",
      " |  log1p(self)\n",
      " |  \n",
      " |  log2(self)\n",
      " |  \n",
      " |  max(self, axis=None, keepdims=False)\n",
      " |      See `theano.tensor.max`.\n",
      " |  \n",
      " |  mean(self, axis=None, dtype=None, keepdims=False, acc_dtype=None)\n",
      " |      See `theano.tensor.mean`.\n",
      " |  \n",
      " |  min(self, axis=None, keepdims=False)\n",
      " |      See `theano.tensor.min`.\n",
      " |  \n",
      " |  nonzero(self, return_matrix=False)\n",
      " |      See `theano.tensor.nonzero`.\n",
      " |  \n",
      " |  nonzero_values(self)\n",
      " |      See `theano.tensor.nonzero_values`.\n",
      " |  \n",
      " |  norm(self, L, axis=None)\n",
      " |  \n",
      " |  prod(self, axis=None, dtype=None, keepdims=False, acc_dtype=None)\n",
      " |      See `theano.tensor.prod`.\n",
      " |  \n",
      " |  ptp(self, axis=None)\n",
      " |      See 'theano.tensor.ptp'.\n",
      " |  \n",
      " |  rad2deg(self)\n",
      " |  \n",
      " |  ravel(self)\n",
      " |  \n",
      " |  repeat(self, repeats, axis=None)\n",
      " |      See `theano.tensor.repeat`.\n",
      " |  \n",
      " |  reshape(self, shape, ndim=None)\n",
      " |      Return a reshaped view/copy of this variable.\n",
      " |      \n",
      " |      Parameters\n",
      " |      ----------\n",
      " |      shape\n",
      " |          Something that can be converted to a symbolic vector of integers.\n",
      " |      ndim\n",
      " |          The length of the shape. Passing None here means for\n",
      " |          Theano to try and guess the length of `shape`.\n",
      " |      \n",
      " |      .. warning:: This has a different signature than numpy's\n",
      " |                   ndarray.reshape!\n",
      " |                   In numpy you do not need to wrap the shape arguments\n",
      " |                   in a tuple, in theano you do need to.\n",
      " |  \n",
      " |  round(self, mode='half_away_from_zero')\n",
      " |      See `theano.tensor.round`.\n",
      " |  \n",
      " |  sin(self)\n",
      " |  \n",
      " |  sinh(self)\n",
      " |  \n",
      " |  sort(self, axis=-1, kind='quicksort', order=None)\n",
      " |      See `theano.tensor.sort`.\n",
      " |  \n",
      " |  sqrt(self)\n",
      " |  \n",
      " |  squeeze(self)\n",
      " |      Remove broadcastable dimensions from the shape of an array.\n",
      " |      \n",
      " |      It returns the input array, but with the broadcastable dimensions\n",
      " |      removed. This is always `x` itself or a view into `x`.\n",
      " |  \n",
      " |  std(self, axis=None, keepdims=False)\n",
      " |      See `theano.tensor.std`.\n",
      " |  \n",
      " |  sum(self, axis=None, dtype=None, keepdims=False, acc_dtype=None)\n",
      " |      See `theano.tensor.sum`.\n",
      " |  \n",
      " |  swapaxes(self, axis1, axis2)\n",
      " |      Return 'tensor.swapaxes(self, axis1, axis2).\n",
      " |      \n",
      " |      If a matrix is provided with the right axes, its transpose\n",
      " |      will be returned.\n",
      " |  \n",
      " |  take(self, indices, axis=None, mode='raise')\n",
      " |  \n",
      " |  tan(self)\n",
      " |  \n",
      " |  tanh(self)\n",
      " |  \n",
      " |  trace(self)\n",
      " |  \n",
      " |  transfer(self, target)\n",
      " |      If `target` is `'cpu'` this will transfer to a TensorType (if\n",
      " |      not already one).  Other types may define additional targets.\n",
      " |      \n",
      " |      Parameters\n",
      " |      ----------\n",
      " |      target : str\n",
      " |          The desired location of the output variable\n",
      " |  \n",
      " |  transpose(self, *axes)\n",
      " |      Returns\n",
      " |      -------\n",
      " |      object\n",
      " |          `tensor.transpose(self, axes)` or `tensor.transpose(self, axes[0])`.\n",
      " |      \n",
      " |      If only one `axes` argument is provided and it is iterable, then it is\n",
      " |      assumed to be the entire axes tuple, and passed intact to\n",
      " |      tensor.transpose.\n",
      " |  \n",
      " |  trunc(self)\n",
      " |  \n",
      " |  var(self, axis=None, keepdims=False)\n",
      " |      See `theano.tensor.var`.\n",
      " |  \n",
      " |  zeros_like(model, dtype=None)\n",
      " |  \n",
      " |  ----------------------------------------------------------------------\n",
      " |  Data descriptors inherited from theano.tensor.var._tensor_py_operators:\n",
      " |  \n",
      " |  T\n",
      " |  \n",
      " |  __dict__\n",
      " |      dictionary for instance variables (if defined)\n",
      " |  \n",
      " |  __weakref__\n",
      " |      list of weak references to the object (if defined)\n",
      " |  \n",
      " |  broadcastable\n",
      " |  \n",
      " |  dtype\n",
      " |  \n",
      " |  imag\n",
      " |      Return imaginary component of complex-valued tensor `z`\n",
      " |      \n",
      " |      Generalizes a scalar op to tensors.\n",
      " |      \n",
      " |      All the inputs must have the same number of dimensions. When the\n",
      " |      Op is performed, for each dimension, each input's size for that\n",
      " |      dimension must be the same. As a special case, it can also be 1\n",
      " |      but only if the input's broadcastable flag is True for that\n",
      " |      dimension. In that case, the tensor is (virtually) replicated\n",
      " |      along that dimension to match the size of the others.\n",
      " |      \n",
      " |      The dtypes of the outputs mirror those of the scalar Op that is\n",
      " |      being generalized to tensors. In particular, if the calculations\n",
      " |      for an output are done inplace on an input, the output type must\n",
      " |      be the same as the corresponding input type (see the doc of\n",
      " |      scalar.ScalarOp to get help about controlling the output type)\n",
      " |      \n",
      " |      Parameters\n",
      " |      ----------\n",
      " |      scalar_op\n",
      " |          An instance of a subclass of scalar.ScalarOp which works uniquely\n",
      " |          on scalars.\n",
      " |      inplace_pattern\n",
      " |          A dictionary that maps the index of an output to the\n",
      " |          index of an input so the output is calculated inplace using\n",
      " |          the input's storage. (Just like destroymap, but without the lists.)\n",
      " |      nfunc_spec\n",
      " |          Either None or a tuple of three elements,\n",
      " |          (nfunc_name, nin, nout) such that getattr(numpy, nfunc_name)\n",
      " |          implements this operation, takes nin inputs and nout outputs.\n",
      " |          Note that nin cannot always be inferred from the scalar op's\n",
      " |          own nin field because that value is sometimes 0 (meaning a\n",
      " |          variable number of inputs), whereas the numpy function may\n",
      " |          not have varargs.\n",
      " |      \n",
      " |      Examples\n",
      " |      --------\n",
      " |      Elemwise(add) # represents + on tensors (x + y)\n",
      " |      Elemwise(add, {0 : 0}) # represents the += operation (x += y)\n",
      " |      Elemwise(add, {0 : 1}) # represents += on the second argument (y += x)\n",
      " |      Elemwise(mul)(rand(10, 5), rand(1, 5)) # the second input is completed\n",
      " |      # along the first dimension to match the first input\n",
      " |      Elemwise(true_div)(rand(10, 5), rand(10, 1)) # same but along the\n",
      " |      # second dimension\n",
      " |      Elemwise(int_div)(rand(1, 5), rand(10, 1)) # the output has size (10, 5)\n",
      " |      Elemwise(log)(rand(3, 4, 5))\n",
      " |  \n",
      " |  ndim\n",
      " |  \n",
      " |  real\n",
      " |      Return real component of complex-valued tensor `z`\n",
      " |      \n",
      " |      Generalizes a scalar op to tensors.\n",
      " |      \n",
      " |      All the inputs must have the same number of dimensions. When the\n",
      " |      Op is performed, for each dimension, each input's size for that\n",
      " |      dimension must be the same. As a special case, it can also be 1\n",
      " |      but only if the input's broadcastable flag is True for that\n",
      " |      dimension. In that case, the tensor is (virtually) replicated\n",
      " |      along that dimension to match the size of the others.\n",
      " |      \n",
      " |      The dtypes of the outputs mirror those of the scalar Op that is\n",
      " |      being generalized to tensors. In particular, if the calculations\n",
      " |      for an output are done inplace on an input, the output type must\n",
      " |      be the same as the corresponding input type (see the doc of\n",
      " |      scalar.ScalarOp to get help about controlling the output type)\n",
      " |      \n",
      " |      Parameters\n",
      " |      ----------\n",
      " |      scalar_op\n",
      " |          An instance of a subclass of scalar.ScalarOp which works uniquely\n",
      " |          on scalars.\n",
      " |      inplace_pattern\n",
      " |          A dictionary that maps the index of an output to the\n",
      " |          index of an input so the output is calculated inplace using\n",
      " |          the input's storage. (Just like destroymap, but without the lists.)\n",
      " |      nfunc_spec\n",
      " |          Either None or a tuple of three elements,\n",
      " |          (nfunc_name, nin, nout) such that getattr(numpy, nfunc_name)\n",
      " |          implements this operation, takes nin inputs and nout outputs.\n",
      " |          Note that nin cannot always be inferred from the scalar op's\n",
      " |          own nin field because that value is sometimes 0 (meaning a\n",
      " |          variable number of inputs), whereas the numpy function may\n",
      " |          not have varargs.\n",
      " |      \n",
      " |      Examples\n",
      " |      --------\n",
      " |      Elemwise(add) # represents + on tensors (x + y)\n",
      " |      Elemwise(add, {0 : 0}) # represents the += operation (x += y)\n",
      " |      Elemwise(add, {0 : 1}) # represents += on the second argument (y += x)\n",
      " |      Elemwise(mul)(rand(10, 5), rand(1, 5)) # the second input is completed\n",
      " |      # along the first dimension to match the first input\n",
      " |      Elemwise(true_div)(rand(10, 5), rand(10, 1)) # same but along the\n",
      " |      # second dimension\n",
      " |      Elemwise(int_div)(rand(1, 5), rand(10, 1)) # the output has size (10, 5)\n",
      " |      Elemwise(log)(rand(3, 4, 5))\n",
      " |  \n",
      " |  shape\n",
      " |  \n",
      " |  size\n",
      " |  \n",
      " |  ----------------------------------------------------------------------\n",
      " |  Data and other attributes inherited from theano.tensor.var._tensor_py_operators:\n",
      " |  \n",
      " |  __array_priority__ = 1000\n",
      " |  \n",
      " |  ----------------------------------------------------------------------\n",
      " |  Methods inherited from theano.compile.sharedvalue.SharedVariable:\n",
      " |  \n",
      " |  __init__(self, name, type, value, strict, allow_downcast=None, container=None)\n",
      " |      Initialize self.  See help(type(self)) for accurate signature.\n",
      " |  \n",
      " |  clone(self)\n",
      " |      Return a new Variable like self.\n",
      " |      \n",
      " |      Returns\n",
      " |      -------\n",
      " |      Variable instance\n",
      " |          A new Variable instance (or subclass instance) with no owner or\n",
      " |          index.\n",
      " |      \n",
      " |      Notes\n",
      " |      -----\n",
      " |      Tags are copied to the returned instance.\n",
      " |      \n",
      " |      Name is copied to the returned instance.\n",
      " |  \n",
      " |  get_value(self, borrow=False, return_internal_type=False)\n",
      " |      Get the non-symbolic value associated with this SharedVariable.\n",
      " |      \n",
      " |      Parameters\n",
      " |      ----------\n",
      " |      borrow : bool\n",
      " |          True to permit returning of an object aliased to internal memory.\n",
      " |      return_internal_type : bool\n",
      " |          True to permit the returning of an arbitrary type object used\n",
      " |          internally to store the shared variable.\n",
      " |      \n",
      " |      Only with borrow=False and return_internal_type=True does this function\n",
      " |      guarantee that you actually get the internal object.\n",
      " |      But in that case, you may get different return types when using\n",
      " |      different compute devices.\n",
      " |  \n",
      " |  set_value(self, new_value, borrow=False)\n",
      " |      Set the non-symbolic value associated with this SharedVariable.\n",
      " |      \n",
      " |      Parameters\n",
      " |      ----------\n",
      " |      borrow : bool\n",
      " |          True to use the new_value directly, potentially creating problems\n",
      " |          related to aliased memory.\n",
      " |      \n",
      " |      Changes to this value will be visible to all functions using\n",
      " |      this SharedVariable.\n",
      " |  \n",
      " |  zero(self, borrow=False)\n",
      " |      Set the values of a shared variable to 0.\n",
      " |      \n",
      " |      Parameters\n",
      " |      ----------\n",
      " |      borrow : bbol\n",
      " |          True to modify the value of a shared variable directly by using\n",
      " |          its previous value. Potentially this can cause problems\n",
      " |          regarding to the aliased memory.\n",
      " |      \n",
      " |      Changes done with this function will be visible to all functions using\n",
      " |      this SharedVariable.\n",
      " |  \n",
      " |  ----------------------------------------------------------------------\n",
      " |  Data descriptors inherited from theano.compile.sharedvalue.SharedVariable:\n",
      " |  \n",
      " |  value\n",
      " |  \n",
      " |  ----------------------------------------------------------------------\n",
      " |  Data and other attributes inherited from theano.compile.sharedvalue.SharedVariable:\n",
      " |  \n",
      " |  container = None\n",
      " |  \n",
      " |  ----------------------------------------------------------------------\n",
      " |  Methods inherited from theano.gof.graph.Variable:\n",
      " |  \n",
      " |  __getstate__(self)\n",
      " |  \n",
      " |  __repr__(self, firstPass=True)\n",
      " |      Return a repr of the Variable.\n",
      " |      \n",
      " |      Return a printable name or description of the Variable. If\n",
      " |      config.print_test_value is True it will also print the test_value if\n",
      " |      any.\n",
      " |  \n",
      " |  __repr_test_value__(self)\n",
      " |      Return a repr of the test value.\n",
      " |      \n",
      " |      Return a printable representation of the test value. It can be\n",
      " |      overridden by classes with non printable test_value to provide a\n",
      " |      suitable representation of the test_value.\n",
      " |  \n",
      " |  __str__(self)\n",
      " |      Return a str representation of the Variable.\n",
      " |  \n",
      " |  eval(self, inputs_to_values=None)\n",
      " |      Evaluates this variable.\n",
      " |      \n",
      " |      Parameters\n",
      " |      ----------\n",
      " |      inputs_to_values\n",
      " |          A dictionary mapping theano Variables to values.\n",
      " |      \n",
      " |      Examples\n",
      " |      --------\n",
      " |      \n",
      " |      >>> import numpy\n",
      " |      >>> import theano.tensor as T\n",
      " |      >>> x = T.dscalar('x')\n",
      " |      >>> y = T.dscalar('y')\n",
      " |      >>> z = x + y\n",
      " |      >>> numpy.allclose(z.eval({x : 16.3, y : 12.1}), 28.4)\n",
      " |      True\n",
      " |      \n",
      " |      We passed :func:`eval` a dictionary mapping symbolic theano\n",
      " |      variables to the values to substitute for them, and it returned\n",
      " |      the numerical value of the expression.\n",
      " |      \n",
      " |      Notes\n",
      " |      -----\n",
      " |      \n",
      " |      `eval` will be slow the first time you call it on a variable --\n",
      " |      it needs to call :func:`function` to compile the expression behind\n",
      " |      the scenes. Subsequent calls to :func:`eval` on that same variable\n",
      " |      will be fast, because the variable caches the compiled function.\n",
      " |      \n",
      " |      This way of computing has more overhead than a normal Theano\n",
      " |      function, so don't use it too much in real scripts.\n",
      " |  \n",
      " |  get_parents(self)\n",
      " |      Return a list of the parents of this node.\n",
      " |      Should return a copy--i.e., modifying the return\n",
      " |      value should not modify the graph structure.\n",
      " |  \n",
      " |  ----------------------------------------------------------------------\n",
      " |  Data and other attributes inherited from theano.gof.graph.Variable:\n",
      " |  \n",
      " |  __count__ = count(11095)\n",
      " |  \n",
      " |  ----------------------------------------------------------------------\n",
      " |  Methods inherited from theano.gof.utils.object2:\n",
      " |  \n",
      " |  __ne__(self, other)\n",
      " |      Return self!=value.\n",
      "\n"
     ]
    }
   ],
   "source": [
    "help(conv_1.W)"
   ]
  },
  {
   "cell_type": "code",
   "execution_count": 51,
   "metadata": {
    "collapsed": false
   },
   "outputs": [
    {
     "data": {
      "text/plain": [
       "array(conv_1.W, dtype=object)"
      ]
     },
     "execution_count": 51,
     "metadata": {},
     "output_type": "execute_result"
    }
   ],
   "source": [
    "np.array(conv_1.W)"
   ]
  },
  {
   "cell_type": "code",
   "execution_count": 52,
   "metadata": {
    "collapsed": false
   },
   "outputs": [
    {
     "name": "stdout",
     "output_type": "stream",
     "text": [
      "conv_1.W\n"
     ]
    }
   ],
   "source": [
    "print(conv_1.W)"
   ]
  },
  {
   "cell_type": "code",
   "execution_count": null,
   "metadata": {
    "collapsed": false
   },
   "outputs": [],
   "source": []
  },
  {
   "cell_type": "code",
   "execution_count": 53,
   "metadata": {
    "collapsed": false
   },
   "outputs": [
    {
     "data": {
      "text/html": [
       "<div>\n",
       "<table border=\"1\" class=\"dataframe\">\n",
       "  <thead>\n",
       "    <tr style=\"text-align: right;\">\n",
       "      <th></th>\n",
       "      <th>tag</th>\n",
       "      <th>frequency</th>\n",
       "    </tr>\n",
       "  </thead>\n",
       "  <tbody>\n",
       "    <tr>\n",
       "      <th>100</th>\n",
       "      <td>sport</td>\n",
       "      <td>1469</td>\n",
       "    </tr>\n",
       "    <tr>\n",
       "      <th>101</th>\n",
       "      <td>green</td>\n",
       "      <td>1456</td>\n",
       "    </tr>\n",
       "    <tr>\n",
       "      <th>102</th>\n",
       "      <td>home</td>\n",
       "      <td>1456</td>\n",
       "    </tr>\n",
       "    <tr>\n",
       "      <th>103</th>\n",
       "      <td>isometric</td>\n",
       "      <td>1427</td>\n",
       "    </tr>\n",
       "    <tr>\n",
       "      <th>104</th>\n",
       "      <td>time</td>\n",
       "      <td>1418</td>\n",
       "    </tr>\n",
       "    <tr>\n",
       "      <th>105</th>\n",
       "      <td>water</td>\n",
       "      <td>1413</td>\n",
       "    </tr>\n",
       "    <tr>\n",
       "      <th>106</th>\n",
       "      <td>human</td>\n",
       "      <td>1388</td>\n",
       "    </tr>\n",
       "    <tr>\n",
       "      <th>107</th>\n",
       "      <td>car</td>\n",
       "      <td>1380</td>\n",
       "    </tr>\n",
       "    <tr>\n",
       "      <th>108</th>\n",
       "      <td>holiday</td>\n",
       "      <td>1374</td>\n",
       "    </tr>\n",
       "    <tr>\n",
       "      <th>109</th>\n",
       "      <td>color</td>\n",
       "      <td>1342</td>\n",
       "    </tr>\n",
       "    <tr>\n",
       "      <th>110</th>\n",
       "      <td>online</td>\n",
       "      <td>1337</td>\n",
       "    </tr>\n",
       "    <tr>\n",
       "      <th>111</th>\n",
       "      <td>glass</td>\n",
       "      <td>1328</td>\n",
       "    </tr>\n",
       "    <tr>\n",
       "      <th>112</th>\n",
       "      <td>fresh</td>\n",
       "      <td>1327</td>\n",
       "    </tr>\n",
       "    <tr>\n",
       "      <th>113</th>\n",
       "      <td>fashion</td>\n",
       "      <td>1300</td>\n",
       "    </tr>\n",
       "    <tr>\n",
       "      <th>114</th>\n",
       "      <td>hat</td>\n",
       "      <td>1297</td>\n",
       "    </tr>\n",
       "    <tr>\n",
       "      <th>115</th>\n",
       "      <td>character</td>\n",
       "      <td>1291</td>\n",
       "    </tr>\n",
       "    <tr>\n",
       "      <th>116</th>\n",
       "      <td>transportation</td>\n",
       "      <td>1286</td>\n",
       "    </tr>\n",
       "    <tr>\n",
       "      <th>117</th>\n",
       "      <td>restaurant</td>\n",
       "      <td>1254</td>\n",
       "    </tr>\n",
       "    <tr>\n",
       "      <th>118</th>\n",
       "      <td>ribbon</td>\n",
       "      <td>1244</td>\n",
       "    </tr>\n",
       "    <tr>\n",
       "      <th>119</th>\n",
       "      <td>drink</td>\n",
       "      <td>1237</td>\n",
       "    </tr>\n",
       "    <tr>\n",
       "      <th>120</th>\n",
       "      <td>care</td>\n",
       "      <td>1236</td>\n",
       "    </tr>\n",
       "    <tr>\n",
       "      <th>121</th>\n",
       "      <td>album</td>\n",
       "      <td>1215</td>\n",
       "    </tr>\n",
       "    <tr>\n",
       "      <th>122</th>\n",
       "      <td>old</td>\n",
       "      <td>1211</td>\n",
       "    </tr>\n",
       "    <tr>\n",
       "      <th>123</th>\n",
       "      <td>tourism</td>\n",
       "      <td>1187</td>\n",
       "    </tr>\n",
       "    <tr>\n",
       "      <th>124</th>\n",
       "      <td>content</td>\n",
       "      <td>1179</td>\n",
       "    </tr>\n",
       "    <tr>\n",
       "      <th>125</th>\n",
       "      <td>culture</td>\n",
       "      <td>1170</td>\n",
       "    </tr>\n",
       "    <tr>\n",
       "      <th>126</th>\n",
       "      <td>idea</td>\n",
       "      <td>1167</td>\n",
       "    </tr>\n",
       "    <tr>\n",
       "      <th>127</th>\n",
       "      <td>book</td>\n",
       "      <td>1166</td>\n",
       "    </tr>\n",
       "    <tr>\n",
       "      <th>128</th>\n",
       "      <td>plant</td>\n",
       "      <td>1154</td>\n",
       "    </tr>\n",
       "    <tr>\n",
       "      <th>129</th>\n",
       "      <td>education</td>\n",
       "      <td>1146</td>\n",
       "    </tr>\n",
       "    <tr>\n",
       "      <th>130</th>\n",
       "      <td>map</td>\n",
       "      <td>1144</td>\n",
       "    </tr>\n",
       "    <tr>\n",
       "      <th>131</th>\n",
       "      <td>blog</td>\n",
       "      <td>1141</td>\n",
       "    </tr>\n",
       "    <tr>\n",
       "      <th>132</th>\n",
       "      <td>tablet</td>\n",
       "      <td>1132</td>\n",
       "    </tr>\n",
       "    <tr>\n",
       "      <th>133</th>\n",
       "      <td>world</td>\n",
       "      <td>1126</td>\n",
       "    </tr>\n",
       "    <tr>\n",
       "      <th>134</th>\n",
       "      <td>medicine</td>\n",
       "      <td>1121</td>\n",
       "    </tr>\n",
       "    <tr>\n",
       "      <th>135</th>\n",
       "      <td>transport</td>\n",
       "      <td>1119</td>\n",
       "    </tr>\n",
       "    <tr>\n",
       "      <th>136</th>\n",
       "      <td>city</td>\n",
       "      <td>1118</td>\n",
       "    </tr>\n",
       "    <tr>\n",
       "      <th>137</th>\n",
       "      <td>promo</td>\n",
       "      <td>1113</td>\n",
       "    </tr>\n",
       "    <tr>\n",
       "      <th>138</th>\n",
       "      <td>red</td>\n",
       "      <td>1107</td>\n",
       "    </tr>\n",
       "    <tr>\n",
       "      <th>139</th>\n",
       "      <td>shop</td>\n",
       "      <td>1106</td>\n",
       "    </tr>\n",
       "    <tr>\n",
       "      <th>140</th>\n",
       "      <td>coffee</td>\n",
       "      <td>1106</td>\n",
       "    </tr>\n",
       "    <tr>\n",
       "      <th>141</th>\n",
       "      <td>box</td>\n",
       "      <td>1100</td>\n",
       "    </tr>\n",
       "    <tr>\n",
       "      <th>142</th>\n",
       "      <td>science</td>\n",
       "      <td>1085</td>\n",
       "    </tr>\n",
       "    <tr>\n",
       "      <th>143</th>\n",
       "      <td>female</td>\n",
       "      <td>1079</td>\n",
       "    </tr>\n",
       "    <tr>\n",
       "      <th>144</th>\n",
       "      <td>blue</td>\n",
       "      <td>1073</td>\n",
       "    </tr>\n",
       "    <tr>\n",
       "      <th>145</th>\n",
       "      <td>team</td>\n",
       "      <td>1061</td>\n",
       "    </tr>\n",
       "    <tr>\n",
       "      <th>146</th>\n",
       "      <td>bag</td>\n",
       "      <td>1059</td>\n",
       "    </tr>\n",
       "    <tr>\n",
       "      <th>147</th>\n",
       "      <td>stamp</td>\n",
       "      <td>1040</td>\n",
       "    </tr>\n",
       "    <tr>\n",
       "      <th>148</th>\n",
       "      <td>management</td>\n",
       "      <td>1039</td>\n",
       "    </tr>\n",
       "    <tr>\n",
       "      <th>149</th>\n",
       "      <td>life</td>\n",
       "      <td>1033</td>\n",
       "    </tr>\n",
       "    <tr>\n",
       "      <th>150</th>\n",
       "      <td>camera</td>\n",
       "      <td>1023</td>\n",
       "    </tr>\n",
       "    <tr>\n",
       "      <th>151</th>\n",
       "      <td>tree</td>\n",
       "      <td>1022</td>\n",
       "    </tr>\n",
       "    <tr>\n",
       "      <th>152</th>\n",
       "      <td>badge</td>\n",
       "      <td>1020</td>\n",
       "    </tr>\n",
       "    <tr>\n",
       "      <th>153</th>\n",
       "      <td>medical</td>\n",
       "      <td>1015</td>\n",
       "    </tr>\n",
       "    <tr>\n",
       "      <th>154</th>\n",
       "      <td>construction</td>\n",
       "      <td>1014</td>\n",
       "    </tr>\n",
       "    <tr>\n",
       "      <th>155</th>\n",
       "      <td>success</td>\n",
       "      <td>1010</td>\n",
       "    </tr>\n",
       "    <tr>\n",
       "      <th>156</th>\n",
       "      <td>product</td>\n",
       "      <td>1009</td>\n",
       "    </tr>\n",
       "    <tr>\n",
       "      <th>157</th>\n",
       "      <td>text</td>\n",
       "      <td>1006</td>\n",
       "    </tr>\n",
       "    <tr>\n",
       "      <th>158</th>\n",
       "      <td>lifestyle</td>\n",
       "      <td>1004</td>\n",
       "    </tr>\n",
       "    <tr>\n",
       "      <th>159</th>\n",
       "      <td>seamless</td>\n",
       "      <td>1001</td>\n",
       "    </tr>\n",
       "    <tr>\n",
       "      <th>160</th>\n",
       "      <td>vacation</td>\n",
       "      <td>998</td>\n",
       "    </tr>\n",
       "    <tr>\n",
       "      <th>161</th>\n",
       "      <td>party</td>\n",
       "      <td>996</td>\n",
       "    </tr>\n",
       "    <tr>\n",
       "      <th>162</th>\n",
       "      <td>charts</td>\n",
       "      <td>996</td>\n",
       "    </tr>\n",
       "    <tr>\n",
       "      <th>163</th>\n",
       "      <td>truck</td>\n",
       "      <td>993</td>\n",
       "    </tr>\n",
       "    <tr>\n",
       "      <th>164</th>\n",
       "      <td>cup</td>\n",
       "      <td>993</td>\n",
       "    </tr>\n",
       "    <tr>\n",
       "      <th>165</th>\n",
       "      <td>architecture</td>\n",
       "      <td>988</td>\n",
       "    </tr>\n",
       "    <tr>\n",
       "      <th>166</th>\n",
       "      <td>businessman</td>\n",
       "      <td>988</td>\n",
       "    </tr>\n",
       "    <tr>\n",
       "      <th>167</th>\n",
       "      <td>girl</td>\n",
       "      <td>980</td>\n",
       "    </tr>\n",
       "    <tr>\n",
       "      <th>168</th>\n",
       "      <td>menu</td>\n",
       "      <td>980</td>\n",
       "    </tr>\n",
       "    <tr>\n",
       "      <th>169</th>\n",
       "      <td>shopping</td>\n",
       "      <td>979</td>\n",
       "    </tr>\n",
       "    <tr>\n",
       "      <th>170</th>\n",
       "      <td>fun</td>\n",
       "      <td>976</td>\n",
       "    </tr>\n",
       "    <tr>\n",
       "      <th>171</th>\n",
       "      <td>creative</td>\n",
       "      <td>967</td>\n",
       "    </tr>\n",
       "    <tr>\n",
       "      <th>172</th>\n",
       "      <td>globe</td>\n",
       "      <td>967</td>\n",
       "    </tr>\n",
       "    <tr>\n",
       "      <th>173</th>\n",
       "      <td>composition</td>\n",
       "      <td>965</td>\n",
       "    </tr>\n",
       "    <tr>\n",
       "      <th>174</th>\n",
       "      <td>symbols</td>\n",
       "      <td>962</td>\n",
       "    </tr>\n",
       "    <tr>\n",
       "      <th>175</th>\n",
       "      <td>graphic</td>\n",
       "      <td>953</td>\n",
       "    </tr>\n",
       "    <tr>\n",
       "      <th>176</th>\n",
       "      <td>frame</td>\n",
       "      <td>944</td>\n",
       "    </tr>\n",
       "    <tr>\n",
       "      <th>177</th>\n",
       "      <td>traditional</td>\n",
       "      <td>943</td>\n",
       "    </tr>\n",
       "    <tr>\n",
       "      <th>178</th>\n",
       "      <td>organic</td>\n",
       "      <td>943</td>\n",
       "    </tr>\n",
       "    <tr>\n",
       "      <th>179</th>\n",
       "      <td>silhouette</td>\n",
       "      <td>942</td>\n",
       "    </tr>\n",
       "    <tr>\n",
       "      <th>180</th>\n",
       "      <td>data</td>\n",
       "      <td>941</td>\n",
       "    </tr>\n",
       "    <tr>\n",
       "      <th>181</th>\n",
       "      <td>sun</td>\n",
       "      <td>936</td>\n",
       "    </tr>\n",
       "    <tr>\n",
       "      <th>182</th>\n",
       "      <td>power</td>\n",
       "      <td>935</td>\n",
       "    </tr>\n",
       "    <tr>\n",
       "      <th>183</th>\n",
       "      <td>global</td>\n",
       "      <td>932</td>\n",
       "    </tr>\n",
       "    <tr>\n",
       "      <th>184</th>\n",
       "      <td>job</td>\n",
       "      <td>928</td>\n",
       "    </tr>\n",
       "    <tr>\n",
       "      <th>185</th>\n",
       "      <td>happy</td>\n",
       "      <td>924</td>\n",
       "    </tr>\n",
       "    <tr>\n",
       "      <th>186</th>\n",
       "      <td>texture</td>\n",
       "      <td>923</td>\n",
       "    </tr>\n",
       "    <tr>\n",
       "      <th>187</th>\n",
       "      <td>energy</td>\n",
       "      <td>920</td>\n",
       "    </tr>\n",
       "    <tr>\n",
       "      <th>188</th>\n",
       "      <td>digital</td>\n",
       "      <td>916</td>\n",
       "    </tr>\n",
       "    <tr>\n",
       "      <th>189</th>\n",
       "      <td>button</td>\n",
       "      <td>910</td>\n",
       "    </tr>\n",
       "    <tr>\n",
       "      <th>190</th>\n",
       "      <td>shape</td>\n",
       "      <td>909</td>\n",
       "    </tr>\n",
       "    <tr>\n",
       "      <th>191</th>\n",
       "      <td>male</td>\n",
       "      <td>906</td>\n",
       "    </tr>\n",
       "    <tr>\n",
       "      <th>192</th>\n",
       "      <td>sea</td>\n",
       "      <td>904</td>\n",
       "    </tr>\n",
       "    <tr>\n",
       "      <th>193</th>\n",
       "      <td>security</td>\n",
       "      <td>901</td>\n",
       "    </tr>\n",
       "    <tr>\n",
       "      <th>194</th>\n",
       "      <td>machine</td>\n",
       "      <td>900</td>\n",
       "    </tr>\n",
       "    <tr>\n",
       "      <th>195</th>\n",
       "      <td>tileable</td>\n",
       "      <td>894</td>\n",
       "    </tr>\n",
       "    <tr>\n",
       "      <th>196</th>\n",
       "      <td>premium</td>\n",
       "      <td>891</td>\n",
       "    </tr>\n",
       "    <tr>\n",
       "      <th>197</th>\n",
       "      <td>activity</td>\n",
       "      <td>888</td>\n",
       "    </tr>\n",
       "    <tr>\n",
       "      <th>198</th>\n",
       "      <td>wrap</td>\n",
       "      <td>881</td>\n",
       "    </tr>\n",
       "    <tr>\n",
       "      <th>199</th>\n",
       "      <td>leaf</td>\n",
       "      <td>879</td>\n",
       "    </tr>\n",
       "  </tbody>\n",
       "</table>\n",
       "</div>"
      ],
      "text/plain": [
       "                tag  frequency\n",
       "100           sport       1469\n",
       "101           green       1456\n",
       "102            home       1456\n",
       "103       isometric       1427\n",
       "104            time       1418\n",
       "105           water       1413\n",
       "106           human       1388\n",
       "107             car       1380\n",
       "108         holiday       1374\n",
       "109           color       1342\n",
       "110          online       1337\n",
       "111           glass       1328\n",
       "112           fresh       1327\n",
       "113         fashion       1300\n",
       "114             hat       1297\n",
       "115       character       1291\n",
       "116  transportation       1286\n",
       "117      restaurant       1254\n",
       "118          ribbon       1244\n",
       "119           drink       1237\n",
       "120            care       1236\n",
       "121           album       1215\n",
       "122             old       1211\n",
       "123         tourism       1187\n",
       "124         content       1179\n",
       "125         culture       1170\n",
       "126            idea       1167\n",
       "127            book       1166\n",
       "128           plant       1154\n",
       "129       education       1146\n",
       "130             map       1144\n",
       "131            blog       1141\n",
       "132          tablet       1132\n",
       "133           world       1126\n",
       "134        medicine       1121\n",
       "135       transport       1119\n",
       "136            city       1118\n",
       "137           promo       1113\n",
       "138             red       1107\n",
       "139            shop       1106\n",
       "140          coffee       1106\n",
       "141             box       1100\n",
       "142         science       1085\n",
       "143          female       1079\n",
       "144            blue       1073\n",
       "145            team       1061\n",
       "146             bag       1059\n",
       "147           stamp       1040\n",
       "148      management       1039\n",
       "149            life       1033\n",
       "150          camera       1023\n",
       "151            tree       1022\n",
       "152           badge       1020\n",
       "153         medical       1015\n",
       "154    construction       1014\n",
       "155         success       1010\n",
       "156         product       1009\n",
       "157            text       1006\n",
       "158       lifestyle       1004\n",
       "159        seamless       1001\n",
       "160        vacation        998\n",
       "161           party        996\n",
       "162          charts        996\n",
       "163           truck        993\n",
       "164             cup        993\n",
       "165    architecture        988\n",
       "166     businessman        988\n",
       "167            girl        980\n",
       "168            menu        980\n",
       "169        shopping        979\n",
       "170             fun        976\n",
       "171        creative        967\n",
       "172           globe        967\n",
       "173     composition        965\n",
       "174         symbols        962\n",
       "175         graphic        953\n",
       "176           frame        944\n",
       "177     traditional        943\n",
       "178         organic        943\n",
       "179      silhouette        942\n",
       "180            data        941\n",
       "181             sun        936\n",
       "182           power        935\n",
       "183          global        932\n",
       "184             job        928\n",
       "185           happy        924\n",
       "186         texture        923\n",
       "187          energy        920\n",
       "188         digital        916\n",
       "189          button        910\n",
       "190           shape        909\n",
       "191            male        906\n",
       "192             sea        904\n",
       "193        security        901\n",
       "194         machine        900\n",
       "195        tileable        894\n",
       "196         premium        891\n",
       "197        activity        888\n",
       "198            wrap        881\n",
       "199            leaf        879"
      ]
     },
     "execution_count": 53,
     "metadata": {},
     "output_type": "execute_result"
    }
   ],
   "source": [
    "freq[100:200]"
   ]
  },
  {
   "cell_type": "code",
   "execution_count": 54,
   "metadata": {
    "collapsed": true
   },
   "outputs": [],
   "source": [
    "def img_preproc(img_name):\n",
    "    thresh_canny = 15\n",
    "    im = Image.open(way_pics + \"\\\\\" + img_name).convert('RGB') # sometimes there is CMYK\n",
    "    im = im.resize((1024,1024),Image.ANTIALIAS)\n",
    "    # im = cv2.imread(way_pics + \"\\\\\" + pic4)\n",
    "    im = cv2.cvtColor(np.array(im),cv2.COLOR_BGR2GRAY)\n",
    "    im = cv2.blur(im,(3,3))\n",
    "    im = cv2.Canny(im, thresh_canny, thresh_canny*3, 3)\n",
    "    return im"
   ]
  },
  {
   "cell_type": "code",
   "execution_count": 55,
   "metadata": {
    "collapsed": true
   },
   "outputs": [],
   "source": [
    "pic1 = \"1309.i001.001.S.m001.c18.Arabic Royal Pattern.jpg\"\n",
    "pic2 = \"1310.i003.017.S.i003.c10.car gift.jpg\"\n",
    "pic3 = \"1310.i003.004.S.m001.c7.home security.jpg\"\n",
    "pic4 = \"1310.i003.002.S.m001.c7.home safety.jpg\"\n",
    "pic5 = \"1310.i003.006.S.m002.c7.Beach summer vacation.jpg\"\n",
    "pic6 = \"1310.i003.005.P.m002.c20.Lounge chairs.jpg\""
   ]
  },
  {
   "cell_type": "code",
   "execution_count": 56,
   "metadata": {
    "collapsed": false
   },
   "outputs": [
    {
     "data": {
      "image/png": "[encoded data removed]",
      "text/plain": [
       "<matplotlib.figure.Figure at 0x20d95c85c0>"
      ]
     },
     "metadata": {},
     "output_type": "display_data"
    },
    {
     "data": {
      "text/plain": [
       "(<matplotlib.image.AxesImage at 0x20da868898>, None)"
      ]
     },
     "execution_count": 56,
     "metadata": {},
     "output_type": "execute_result"
    }
   ],
   "source": [
    "img1 = img_preproc(pic1)\n",
    "img2 = img_preproc(pic6)\n",
    "\n",
    "# Initiate SIFT detector\n",
    "orb = cv2.ORB_create(nfeatures=100000, scoreType=cv2.ORB_FAST_SCORE)\n",
    "\n",
    "# find the keypoints and descriptors with SIFT\n",
    "kp1, des1 = orb.detectAndCompute(img1,None)\n",
    "kp2, des2 = orb.detectAndCompute(img2,None)\n",
    "# create BFMatcher object\n",
    "bf = cv2.BFMatcher(cv2.NORM_HAMMING, crossCheck=True)\n",
    "\n",
    "# Match descriptors.\n",
    "matches = bf.match(des1,des2)\n",
    "\n",
    "# Sort them in the order of their distance.\n",
    "matches = sorted(matches, key = lambda x:x.distance)\n",
    "\n",
    "# Draw first 10 matches.\n",
    "img3 = cv2.drawMatches(img1,kp1,img2,kp2,matches[:100], outImg = (0,255,0), flags=2)\n",
    "\n",
    "plt.imshow(img3),plt.show()"
   ]
  },
  {
   "cell_type": "code",
   "execution_count": 57,
   "metadata": {
    "collapsed": false
   },
   "outputs": [
    {
     "name": "stdout",
     "output_type": "stream",
     "text": [
      "18\n"
     ]
    },
    {
     "data": {
      "image/png": "[encoded data removed]",
      "text/plain": [
       "<matplotlib.figure.Figure at 0x20da832908>"
      ]
     },
     "metadata": {},
     "output_type": "display_data"
    },
    {
     "data": {
      "text/plain": [
       "(<matplotlib.image.AxesImage at 0x20da74f630>, None)"
      ]
     },
     "execution_count": 57,
     "metadata": {},
     "output_type": "execute_result"
    }
   ],
   "source": [
    "img1 = img_preproc(random.choice(pics_df['pic'].values))\n",
    "img2 = img_preproc(random.choice(pics_df['pic'].values))\n",
    "\n",
    "# Initiate SIFT detector\n",
    "# sift = cv2.SIFT()\n",
    "# http://stackoverflow.com/questions/26855753/pythonopencv-3-cant-use-sift\n",
    "sift = cv2.xfeatures2d.SIFT_create(nfeatures=10000) \n",
    "\n",
    "\n",
    "# find the keypoints and descriptors with SIFT\n",
    "kp1, des1 = sift.detectAndCompute(img1,None)\n",
    "kp2, des2 = sift.detectAndCompute(img2,None)\n",
    "\n",
    "# BFMatcher with default params\n",
    "bf = cv2.BFMatcher()\n",
    "matches = bf.knnMatch(des1,des2, k=2)\n",
    "\n",
    "# Apply ratio test\n",
    "good = []\n",
    "for m,n in matches:\n",
    "    if m.distance < 0.7*n.distance:\n",
    "        good.append([m])\n",
    "\n",
    "# cv2.drawMatchesKnn expects list of lists as matches.\n",
    "img3 = cv2.drawMatchesKnn(img1,kp1,img2,kp2,good, outImg = (0,255,0), flags=2)\n",
    "\n",
    "print(len(good))\n",
    "\n",
    "plt.imshow(img3),plt.show()"
   ]
  },
  {
   "cell_type": "code",
   "execution_count": 58,
   "metadata": {
    "collapsed": false
   },
   "outputs": [
    {
     "data": {
      "text/plain": [
       "2333"
      ]
     },
     "execution_count": 58,
     "metadata": {},
     "output_type": "execute_result"
    }
   ],
   "source": [
    "len(matches)"
   ]
  },
  {
   "cell_type": "code",
   "execution_count": null,
   "metadata": {
    "collapsed": false
   },
   "outputs": [],
   "source": []
  },
  {
   "cell_type": "code",
   "execution_count": 59,
   "metadata": {
    "collapsed": false
   },
   "outputs": [
    {
     "name": "stdout",
     "output_type": "stream",
     "text": [
      "1411.i020.026.S.m003.c11.cup tea.jpg\n"
     ]
    }
   ],
   "source": [
    "import random\n",
    "\n",
    "print(random.choice(pics_df['pic'].values))"
   ]
  },
  {
   "cell_type": "code",
   "execution_count": 60,
   "metadata": {
    "collapsed": false
   },
   "outputs": [
    {
     "data": {
      "text/plain": [
       "1    ['moon', 'crescent', 'blue moon', 'decoration', 'bedtime', 'magic', 'night', 'celebration', 'xma...\n",
       "2    ['lace', 'pattern', 'vector', 'background', 'illustration', 'vintage', 'floral', 'flower', 'seam...\n",
       "Name: tag, dtype: object"
      ]
     },
     "execution_count": 60,
     "metadata": {},
     "output_type": "execute_result"
    }
   ],
   "source": [
    "pics_df.ix[1:2,'tag']"
   ]
  },
  {
   "cell_type": "code",
   "execution_count": 61,
   "metadata": {
    "collapsed": false
   },
   "outputs": [
    {
     "ename": "AttributeError",
     "evalue": "'Series' object has no attribute 'stack'",
     "output_type": "error",
     "traceback": [
      "\u001b[0;31m---------------------------------------------------------------------------\u001b[0m",
      "\u001b[0;31mAttributeError\u001b[0m                            Traceback (most recent call last)",
      "\u001b[0;32m<ipython-input-61-ae6ae248f726>\u001b[0m in \u001b[0;36m<module>\u001b[0;34m()\u001b[0m\n\u001b[0;32m----> 1\u001b[0;31m \u001b[1;33m(\u001b[0m\u001b[0mpics_df\u001b[0m\u001b[1;33m.\u001b[0m\u001b[0mix\u001b[0m\u001b[1;33m[\u001b[0m\u001b[1;36m1\u001b[0m\u001b[1;33m:\u001b[0m\u001b[1;36m2\u001b[0m\u001b[1;33m,\u001b[0m\u001b[1;34m'tag'\u001b[0m\u001b[1;33m]\u001b[0m\u001b[1;33m.\u001b[0m\u001b[0mstack\u001b[0m\u001b[1;33m(\u001b[0m\u001b[1;33m)\u001b[0m\u001b[1;33m,\u001b[0m\u001b[0mpics_df\u001b[0m\u001b[1;33m.\u001b[0m\u001b[0mix\u001b[0m\u001b[1;33m[\u001b[0m\u001b[1;36m3\u001b[0m\u001b[1;33m:\u001b[0m\u001b[1;36m4\u001b[0m\u001b[1;33m,\u001b[0m\u001b[1;34m'tag'\u001b[0m\u001b[1;33m]\u001b[0m\u001b[1;33m.\u001b[0m\u001b[0mstack\u001b[0m\u001b[1;33m(\u001b[0m\u001b[1;33m)\u001b[0m\u001b[1;33m)\u001b[0m\u001b[1;33m\u001b[0m\u001b[0m\n\u001b[0m",
      "\u001b[0;32mC:\\Anaconda3\\lib\\site-packages\\pandas\\core\\generic.py\u001b[0m in \u001b[0;36m__getattr__\u001b[0;34m(self, name)\u001b[0m\n\u001b[1;32m   2670\u001b[0m             \u001b[1;32mif\u001b[0m \u001b[0mname\u001b[0m \u001b[1;32min\u001b[0m \u001b[0mself\u001b[0m\u001b[1;33m.\u001b[0m\u001b[0m_info_axis\u001b[0m\u001b[1;33m:\u001b[0m\u001b[1;33m\u001b[0m\u001b[0m\n\u001b[1;32m   2671\u001b[0m                 \u001b[1;32mreturn\u001b[0m \u001b[0mself\u001b[0m\u001b[1;33m[\u001b[0m\u001b[0mname\u001b[0m\u001b[1;33m]\u001b[0m\u001b[1;33m\u001b[0m\u001b[0m\n\u001b[0;32m-> 2672\u001b[0;31m             \u001b[1;32mreturn\u001b[0m \u001b[0mobject\u001b[0m\u001b[1;33m.\u001b[0m\u001b[0m__getattribute__\u001b[0m\u001b[1;33m(\u001b[0m\u001b[0mself\u001b[0m\u001b[1;33m,\u001b[0m \u001b[0mname\u001b[0m\u001b[1;33m)\u001b[0m\u001b[1;33m\u001b[0m\u001b[0m\n\u001b[0m\u001b[1;32m   2673\u001b[0m \u001b[1;33m\u001b[0m\u001b[0m\n\u001b[1;32m   2674\u001b[0m     \u001b[1;32mdef\u001b[0m \u001b[0m__setattr__\u001b[0m\u001b[1;33m(\u001b[0m\u001b[0mself\u001b[0m\u001b[1;33m,\u001b[0m \u001b[0mname\u001b[0m\u001b[1;33m,\u001b[0m \u001b[0mvalue\u001b[0m\u001b[1;33m)\u001b[0m\u001b[1;33m:\u001b[0m\u001b[1;33m\u001b[0m\u001b[0m\n",
      "\u001b[0;31mAttributeError\u001b[0m: 'Series' object has no attribute 'stack'"
     ]
    }
   ],
   "source": [
    "(pics_df.ix[1:2,'tag'].stack(),pics_df.ix[3:4,'tag'].stack())"
   ]
  },
  {
   "cell_type": "code",
   "execution_count": null,
   "metadata": {
    "collapsed": false,
    "scrolled": true
   },
   "outputs": [],
   "source": []
  },
  {
   "cell_type": "code",
   "execution_count": null,
   "metadata": {
    "collapsed": false
   },
   "outputs": [],
   "source": [
    "s = pics_df.ix[1:10,'tag']\n",
    "pd.get_dummies(s.apply(pd.Series).stack()).sum(level=0)"
   ]
  },
  {
   "cell_type": "code",
   "execution_count": null,
   "metadata": {
    "collapsed": true
   },
   "outputs": [],
   "source": []
  },
  {
   "cell_type": "code",
   "execution_count": null,
   "metadata": {
    "collapsed": false
   },
   "outputs": [],
   "source": [
    "pics_df.ix[1:2,'tag']"
   ]
  },
  {
   "cell_type": "code",
   "execution_count": null,
   "metadata": {
    "collapsed": false
   },
   "outputs": [],
   "source": [
    "s = pics_df.ix[:,'tag']\n",
    "pd.get_dummies(s.apply(pd.Series), prefix='', prefix_sep='').sum(level=0, axis=1)"
   ]
  },
  {
   "cell_type": "code",
   "execution_count": null,
   "metadata": {
    "collapsed": false
   },
   "outputs": [],
   "source": [
    "pd.get_dummies(pics_df.ix[1:2,'tag'], prefix=['col1', 'col2'])"
   ]
  },
  {
   "cell_type": "code",
   "execution_count": null,
   "metadata": {
    "collapsed": false
   },
   "outputs": [],
   "source": []
  },
  {
   "cell_type": "code",
   "execution_count": null,
   "metadata": {
    "collapsed": false
   },
   "outputs": [],
   "source": [
    "pics_df.ix[1,'tag']"
   ]
  },
  {
   "cell_type": "code",
   "execution_count": 62,
   "metadata": {
    "collapsed": true
   },
   "outputs": [],
   "source": [
    "from scipy.sparse import csr_matrix"
   ]
  },
  {
   "cell_type": "code",
   "execution_count": 71,
   "metadata": {
    "collapsed": false
   },
   "outputs": [
    {
     "data": {
      "text/plain": [
       "15306"
      ]
     },
     "execution_count": 71,
     "metadata": {},
     "output_type": "execute_result"
    }
   ],
   "source": [
    "len(unique)"
   ]
  },
  {
   "cell_type": "code",
   "execution_count": 72,
   "metadata": {
    "collapsed": true
   },
   "outputs": [],
   "source": [
    "from scipy.sparse import *"
   ]
  },
  {
   "cell_type": "code",
   "execution_count": 78,
   "metadata": {
    "collapsed": false
   },
   "outputs": [
    {
     "data": {
      "text/plain": [
       "0"
      ]
     },
     "execution_count": 78,
     "metadata": {},
     "output_type": "execute_result"
    }
   ],
   "source": [
    "S[0,1]"
   ]
  },
  {
   "cell_type": "code",
   "execution_count": null,
   "metadata": {
    "collapsed": false
   },
   "outputs": [],
   "source": []
  },
  {
   "cell_type": "code",
   "execution_count": 75,
   "metadata": {
    "collapsed": true
   },
   "outputs": [],
   "source": []
  },
  {
   "cell_type": "code",
   "execution_count": 81,
   "metadata": {
    "collapsed": false
   },
   "outputs": [],
   "source": [
    "\n",
    "    "
   ]
  },
  {
   "cell_type": "code",
   "execution_count": null,
   "metadata": {
    "collapsed": false
   },
   "outputs": [],
   "source": []
  },
  {
   "cell_type": "code",
   "execution_count": 114,
   "metadata": {
    "collapsed": false
   },
   "outputs": [],
   "source": [
    "# pics/tags dummies matrix for pics_df\n",
    "# realization via sparce matrix since pandas get dummies provide memory error\n",
    "# matrix rows = pics, columns = tags (their indices)\n",
    "# tags-indices matching performed via unique_dic\n",
    "\n",
    "# save and load sparce matrix\n",
    "def save_sparse_csr(filename,array):\n",
    "    np.savez(filename,data = array.data ,indices=array.indices,\n",
    "             indptr =array.indptr, shape=array.shape )\n",
    "    \n",
    "def load_sparse_csr(filename):\n",
    "    loader = np.load(filename)\n",
    "    return csr_matrix((  loader['data'], loader['indices'], loader['indptr']),\n",
    "                         shape = loader['shape'])\n",
    "\n",
    "# producing this space matrix \n",
    "def sparce_tag(pics_df=pics_df, unique= unique):\n",
    "    \n",
    "    # getting all unique tags to be the width of the matrix\n",
    "    # to match tags and their indices (column position)\n",
    "    unique_dic = {}\n",
    "    for i in range(len(unique)):\n",
    "        unique_dic[unique[i]]=i\n",
    "    \n",
    "    # initialize matrix\n",
    "    S = dok_matrix((len(pics_df), len(unique)), dtype=np.int8)\n",
    "    for ind in range(len(pics_df)):\n",
    "    #     if ind % 500 == 0: # to check how long it works\n",
    "    #         print(ind)\n",
    "        for tag in pics_df.ix[ind,'tag']:\n",
    "            if tag in unique: # sometimes tag is not in unique due to the preprocessing methods.\n",
    "                # in a better scenario this should be fixed\n",
    "    #             print(unique_dic[tag]) # to check how it works\n",
    "                S[ind,unique_dic[tag]] = 1\n",
    "            else:\n",
    "                pass\n",
    "    #             print('not_in_unique')\n",
    "    S = S.tocsr()\n",
    "    save_sparse_csr(way + \"\\\\\" + 'sparce',S)\n",
    "    S = load_sparse_csr(way + \"\\\\\" + 'sparce'+ '.npz')\n",
    "    return(S)"
   ]
  },
  {
   "cell_type": "code",
   "execution_count": 127,
   "metadata": {
    "collapsed": false
   },
   "outputs": [
    {
     "data": {
      "text/plain": [
       "'assorted'"
      ]
     },
     "execution_count": 127,
     "metadata": {},
     "output_type": "execute_result"
    }
   ],
   "source": [
    "unique[1000]"
   ]
  },
  {
   "cell_type": "code",
   "execution_count": 128,
   "metadata": {
    "collapsed": false,
    "scrolled": true
   },
   "outputs": [
    {
     "data": {
      "text/plain": [
       "1000"
      ]
     },
     "execution_count": 128,
     "metadata": {},
     "output_type": "execute_result"
    }
   ],
   "source": [
    "unique_dic[unique[1000]]"
   ]
  },
  {
   "cell_type": "code",
   "execution_count": 131,
   "metadata": {
    "collapsed": false
   },
   "outputs": [
    {
     "data": {
      "text/plain": [
       "20189"
      ]
     },
     "execution_count": 131,
     "metadata": {},
     "output_type": "execute_result"
    }
   ],
   "source": [
    "len(pics_df)"
   ]
  },
  {
   "cell_type": "code",
   "execution_count": 133,
   "metadata": {
    "collapsed": false
   },
   "outputs": [],
   "source": [
    "S_dense = pd.DataFrame(data = S_dense, columns = unique)"
   ]
  },
  {
   "cell_type": "code",
   "execution_count": 132,
   "metadata": {
    "collapsed": true
   },
   "outputs": [],
   "source": [
    "# statistics to gather\n",
    "# 1) absolute frequency of each tag\n",
    "# 2) matrix of absolute frequencies of pairs of tags\n",
    "# 3) matrix of relative frequencies of pairs of tags. how? p(A|B) = P(B|A)*P(A)/P(B) - the matrix would be asymmetric\n",
    "# 3) this would be matrix of P(A|B), A- row, B - column, A,B - tags\n",
    "# 1-3 shoud be constructed on a CV basis - train matrix and test - to calculate prediction accuracy"
   ]
  },
  {
   "cell_type": "code",
   "execution_count": 117,
   "metadata": {
    "collapsed": false
   },
   "outputs": [
    {
     "data": {
      "text/plain": [
       "matrix([[0, 0, 0, ..., 0, 0, 0],\n",
       "        [0, 0, 0, ..., 0, 0, 0],\n",
       "        [0, 0, 0, ..., 0, 0, 0],\n",
       "        ..., \n",
       "        [0, 0, 0, ..., 0, 0, 0],\n",
       "        [0, 0, 0, ..., 0, 0, 0],\n",
       "        [0, 0, 0, ..., 0, 0, 0]], dtype=int8)"
      ]
     },
     "execution_count": 117,
     "metadata": {},
     "output_type": "execute_result"
    }
   ],
   "source": [
    "S_dense"
   ]
  },
  {
   "cell_type": "code",
   "execution_count": 116,
   "metadata": {
    "collapsed": false
   },
   "outputs": [],
   "source": [
    "S_dense = S.todense()"
   ]
  },
  {
   "cell_type": "code",
   "execution_count": 140,
   "metadata": {
    "collapsed": false
   },
   "outputs": [],
   "source": [
    "rows = np.random.choice(S_dense.index, 4000)\n",
    "S_dense_test = S_dense.ix[rows]\n",
    "S_dense_train = S_dense.drop(rows)"
   ]
  },
  {
   "cell_type": "code",
   "execution_count": 158,
   "metadata": {
    "collapsed": true
   },
   "outputs": [],
   "source": [
    "# frequencies of pair occurrences\n",
    "TF = dok_matrix((len(unique), len(unique)), dtype=np.int32)"
   ]
  },
  {
   "cell_type": "code",
   "execution_count": 162,
   "metadata": {
    "collapsed": false
   },
   "outputs": [
    {
     "name": "stdout",
     "output_type": "stream",
     "text": [
      "0 0\n",
      "0 100\n",
      "0 200\n",
      "0 300\n",
      "0 400\n"
     ]
    },
    {
     "ename": "KeyboardInterrupt",
     "evalue": "",
     "output_type": "error",
     "traceback": [
      "\u001b[0;31m---------------------------------------------------------------------------\u001b[0m",
      "\u001b[0;31mKeyboardInterrupt\u001b[0m                         Traceback (most recent call last)",
      "\u001b[0;32m<ipython-input-162-1f1833a2d0b2>\u001b[0m in \u001b[0;36m<module>\u001b[0;34m()\u001b[0m\n\u001b[1;32m      3\u001b[0m         \u001b[1;32mif\u001b[0m \u001b[0mi\u001b[0m \u001b[1;33m%\u001b[0m \u001b[1;36m100\u001b[0m \u001b[1;33m==\u001b[0m \u001b[1;36m0\u001b[0m \u001b[1;32mand\u001b[0m \u001b[0mj\u001b[0m \u001b[1;33m%\u001b[0m \u001b[1;36m100\u001b[0m \u001b[1;33m==\u001b[0m \u001b[1;36m0\u001b[0m\u001b[1;33m:\u001b[0m\u001b[1;33m\u001b[0m\u001b[0m\n\u001b[1;32m      4\u001b[0m             \u001b[0mprint\u001b[0m\u001b[1;33m(\u001b[0m\u001b[0mi\u001b[0m\u001b[1;33m,\u001b[0m\u001b[0mj\u001b[0m\u001b[1;33m)\u001b[0m\u001b[1;33m\u001b[0m\u001b[0m\n\u001b[0;32m----> 5\u001b[0;31m         \u001b[0mTF\u001b[0m\u001b[1;33m[\u001b[0m\u001b[0mi\u001b[0m\u001b[1;33m,\u001b[0m\u001b[0mj\u001b[0m\u001b[1;33m]\u001b[0m \u001b[1;33m=\u001b[0m \u001b[0msum\u001b[0m\u001b[1;33m(\u001b[0m\u001b[0mS_dense_train\u001b[0m\u001b[1;33m.\u001b[0m\u001b[0mapply\u001b[0m\u001b[1;33m(\u001b[0m\u001b[1;32mlambda\u001b[0m \u001b[0mrow\u001b[0m\u001b[1;33m:\u001b[0m \u001b[1;33m(\u001b[0m\u001b[0mrow\u001b[0m\u001b[1;33m[\u001b[0m\u001b[0mS_dense_train\u001b[0m\u001b[1;33m.\u001b[0m\u001b[0mcolumns\u001b[0m\u001b[1;33m[\u001b[0m\u001b[0mi\u001b[0m\u001b[1;33m]\u001b[0m\u001b[1;33m]\u001b[0m\u001b[1;33m*\u001b[0m\u001b[0mrow\u001b[0m\u001b[1;33m[\u001b[0m\u001b[0mS_dense_train\u001b[0m\u001b[1;33m.\u001b[0m\u001b[0mcolumns\u001b[0m\u001b[1;33m[\u001b[0m\u001b[0mj\u001b[0m\u001b[1;33m]\u001b[0m\u001b[1;33m]\u001b[0m\u001b[1;33m)\u001b[0m\u001b[1;33m,\u001b[0m \u001b[0maxis\u001b[0m\u001b[1;33m=\u001b[0m\u001b[1;36m1\u001b[0m\u001b[1;33m)\u001b[0m\u001b[1;33m)\u001b[0m\u001b[1;33m\u001b[0m\u001b[0m\n\u001b[0m\u001b[1;32m      6\u001b[0m \u001b[1;33m\u001b[0m\u001b[0m\n",
      "\u001b[0;32mC:\\Anaconda3\\lib\\site-packages\\pandas\\core\\frame.py\u001b[0m in \u001b[0;36mapply\u001b[0;34m(self, func, axis, broadcast, raw, reduce, args, **kwds)\u001b[0m\n\u001b[1;32m   4059\u001b[0m                     \u001b[1;32mif\u001b[0m \u001b[0mreduce\u001b[0m \u001b[1;32mis\u001b[0m \u001b[1;32mNone\u001b[0m\u001b[1;33m:\u001b[0m\u001b[1;33m\u001b[0m\u001b[0m\n\u001b[1;32m   4060\u001b[0m                         \u001b[0mreduce\u001b[0m \u001b[1;33m=\u001b[0m \u001b[1;32mTrue\u001b[0m\u001b[1;33m\u001b[0m\u001b[0m\n\u001b[0;32m-> 4061\u001b[0;31m                     \u001b[1;32mreturn\u001b[0m \u001b[0mself\u001b[0m\u001b[1;33m.\u001b[0m\u001b[0m_apply_standard\u001b[0m\u001b[1;33m(\u001b[0m\u001b[0mf\u001b[0m\u001b[1;33m,\u001b[0m \u001b[0maxis\u001b[0m\u001b[1;33m,\u001b[0m \u001b[0mreduce\u001b[0m\u001b[1;33m=\u001b[0m\u001b[0mreduce\u001b[0m\u001b[1;33m)\u001b[0m\u001b[1;33m\u001b[0m\u001b[0m\n\u001b[0m\u001b[1;32m   4062\u001b[0m             \u001b[1;32melse\u001b[0m\u001b[1;33m:\u001b[0m\u001b[1;33m\u001b[0m\u001b[0m\n\u001b[1;32m   4063\u001b[0m                 \u001b[1;32mreturn\u001b[0m \u001b[0mself\u001b[0m\u001b[1;33m.\u001b[0m\u001b[0m_apply_broadcast\u001b[0m\u001b[1;33m(\u001b[0m\u001b[0mf\u001b[0m\u001b[1;33m,\u001b[0m \u001b[0maxis\u001b[0m\u001b[1;33m)\u001b[0m\u001b[1;33m\u001b[0m\u001b[0m\n",
      "\u001b[0;32mC:\\Anaconda3\\lib\\site-packages\\pandas\\core\\frame.py\u001b[0m in \u001b[0;36m_apply_standard\u001b[0;34m(self, func, axis, ignore_failures, reduce)\u001b[0m\n\u001b[1;32m   4115\u001b[0m                     \u001b[0mlabels\u001b[0m \u001b[1;33m=\u001b[0m \u001b[0mself\u001b[0m\u001b[1;33m.\u001b[0m\u001b[0m_get_agg_axis\u001b[0m\u001b[1;33m(\u001b[0m\u001b[0maxis\u001b[0m\u001b[1;33m)\u001b[0m\u001b[1;33m\u001b[0m\u001b[0m\n\u001b[1;32m   4116\u001b[0m                     result = lib.reduce(values, func, axis=axis, dummy=dummy,\n\u001b[0;32m-> 4117\u001b[0;31m                                         labels=labels)\n\u001b[0m\u001b[1;32m   4118\u001b[0m                     \u001b[1;32mreturn\u001b[0m \u001b[0mSeries\u001b[0m\u001b[1;33m(\u001b[0m\u001b[0mresult\u001b[0m\u001b[1;33m,\u001b[0m \u001b[0mindex\u001b[0m\u001b[1;33m=\u001b[0m\u001b[0mlabels\u001b[0m\u001b[1;33m)\u001b[0m\u001b[1;33m\u001b[0m\u001b[0m\n\u001b[1;32m   4119\u001b[0m                 \u001b[1;32mexcept\u001b[0m \u001b[0mException\u001b[0m\u001b[1;33m:\u001b[0m\u001b[1;33m\u001b[0m\u001b[0m\n",
      "\u001b[0;32mpandas\\src\\reduce.pyx\u001b[0m in \u001b[0;36mpandas.lib.reduce (pandas\\lib.c:43539)\u001b[0;34m()\u001b[0m\n",
      "\u001b[0;32mpandas\\src\\reduce.pyx\u001b[0m in \u001b[0;36mpandas.lib.Reducer.get_result (pandas\\lib.c:33736)\u001b[0;34m()\u001b[0m\n",
      "\u001b[0;32m<ipython-input-162-1f1833a2d0b2>\u001b[0m in \u001b[0;36m<lambda>\u001b[0;34m(row)\u001b[0m\n\u001b[1;32m      3\u001b[0m         \u001b[1;32mif\u001b[0m \u001b[0mi\u001b[0m \u001b[1;33m%\u001b[0m \u001b[1;36m100\u001b[0m \u001b[1;33m==\u001b[0m \u001b[1;36m0\u001b[0m \u001b[1;32mand\u001b[0m \u001b[0mj\u001b[0m \u001b[1;33m%\u001b[0m \u001b[1;36m100\u001b[0m \u001b[1;33m==\u001b[0m \u001b[1;36m0\u001b[0m\u001b[1;33m:\u001b[0m\u001b[1;33m\u001b[0m\u001b[0m\n\u001b[1;32m      4\u001b[0m             \u001b[0mprint\u001b[0m\u001b[1;33m(\u001b[0m\u001b[0mi\u001b[0m\u001b[1;33m,\u001b[0m\u001b[0mj\u001b[0m\u001b[1;33m)\u001b[0m\u001b[1;33m\u001b[0m\u001b[0m\n\u001b[0;32m----> 5\u001b[0;31m         \u001b[0mTF\u001b[0m\u001b[1;33m[\u001b[0m\u001b[0mi\u001b[0m\u001b[1;33m,\u001b[0m\u001b[0mj\u001b[0m\u001b[1;33m]\u001b[0m \u001b[1;33m=\u001b[0m \u001b[0msum\u001b[0m\u001b[1;33m(\u001b[0m\u001b[0mS_dense_train\u001b[0m\u001b[1;33m.\u001b[0m\u001b[0mapply\u001b[0m\u001b[1;33m(\u001b[0m\u001b[1;32mlambda\u001b[0m \u001b[0mrow\u001b[0m\u001b[1;33m:\u001b[0m \u001b[1;33m(\u001b[0m\u001b[0mrow\u001b[0m\u001b[1;33m[\u001b[0m\u001b[0mS_dense_train\u001b[0m\u001b[1;33m.\u001b[0m\u001b[0mcolumns\u001b[0m\u001b[1;33m[\u001b[0m\u001b[0mi\u001b[0m\u001b[1;33m]\u001b[0m\u001b[1;33m]\u001b[0m\u001b[1;33m*\u001b[0m\u001b[0mrow\u001b[0m\u001b[1;33m[\u001b[0m\u001b[0mS_dense_train\u001b[0m\u001b[1;33m.\u001b[0m\u001b[0mcolumns\u001b[0m\u001b[1;33m[\u001b[0m\u001b[0mj\u001b[0m\u001b[1;33m]\u001b[0m\u001b[1;33m]\u001b[0m\u001b[1;33m)\u001b[0m\u001b[1;33m,\u001b[0m \u001b[0maxis\u001b[0m\u001b[1;33m=\u001b[0m\u001b[1;36m1\u001b[0m\u001b[1;33m)\u001b[0m\u001b[1;33m)\u001b[0m\u001b[1;33m\u001b[0m\u001b[0m\n\u001b[0m\u001b[1;32m      6\u001b[0m \u001b[1;33m\u001b[0m\u001b[0m\n",
      "\u001b[0;31mKeyboardInterrupt\u001b[0m: "
     ]
    }
   ],
   "source": [
    "for i in range(len(S_dense_train.columns)):\n",
    "    for j in range(len(S_dense_train.columns)):\n",
    "        if i % 100 == 0 and j % 100 == 0:\n",
    "            print(i,j)\n",
    "        TF[i,j] = sum(S_dense_train.apply(lambda row: (row[S_dense_train.columns[i]]*row[S_dense_train.columns[j]]), axis=1))\n",
    "    "
   ]
  },
  {
   "cell_type": "code",
   "execution_count": 155,
   "metadata": {
    "collapsed": false
   },
   "outputs": [
    {
     "name": "stdout",
     "output_type": "stream",
     "text": [
      "1 2\n"
     ]
    }
   ],
   "source": [
    "print('1','2')"
   ]
  },
  {
   "cell_type": "code",
   "execution_count": 154,
   "metadata": {
    "collapsed": false
   },
   "outputs": [
    {
     "data": {
      "text/plain": [
       "(16571, 15306)"
      ]
     },
     "execution_count": 154,
     "metadata": {},
     "output_type": "execute_result"
    }
   ],
   "source": [
    "S_dense_train.shape"
   ]
  },
  {
   "cell_type": "code",
   "execution_count": 152,
   "metadata": {
    "collapsed": false
   },
   "outputs": [
    {
     "data": {
      "text/plain": [
       "16261"
      ]
     },
     "execution_count": 152,
     "metadata": {},
     "output_type": "execute_result"
    }
   ],
   "source": [
    "i = 14571\n",
    "j = 7051\n",
    "sum(S_dense_train.apply(lambda row: (row[S_dense_train.columns[i]]*row[S_dense_train.columns[j]]), axis=1))"
   ]
  },
  {
   "cell_type": "code",
   "execution_count": 150,
   "metadata": {
    "collapsed": false
   },
   "outputs": [
    {
     "data": {
      "text/plain": [
       "14571"
      ]
     },
     "execution_count": 150,
     "metadata": {},
     "output_type": "execute_result"
    }
   ],
   "source": [
    "unique_dic['vector']"
   ]
  },
  {
   "cell_type": "code",
   "execution_count": 151,
   "metadata": {
    "collapsed": false
   },
   "outputs": [
    {
     "data": {
      "text/plain": [
       "7051"
      ]
     },
     "execution_count": 151,
     "metadata": {},
     "output_type": "execute_result"
    }
   ],
   "source": [
    "unique_dic['illustration']"
   ]
  },
  {
   "cell_type": "code",
   "execution_count": 147,
   "metadata": {
    "collapsed": false
   },
   "outputs": [
    {
     "data": {
      "text/html": [
       "<div>\n",
       "<table border=\"1\" class=\"dataframe\">\n",
       "  <thead>\n",
       "    <tr style=\"text-align: right;\">\n",
       "      <th></th>\n",
       "      <th>tag</th>\n",
       "      <th>frequency</th>\n",
       "    </tr>\n",
       "  </thead>\n",
       "  <tbody>\n",
       "    <tr>\n",
       "      <th>0</th>\n",
       "      <td>vector</td>\n",
       "      <td>24387</td>\n",
       "    </tr>\n",
       "    <tr>\n",
       "      <th>1</th>\n",
       "      <td>illustration</td>\n",
       "      <td>24355</td>\n",
       "    </tr>\n",
       "    <tr>\n",
       "      <th>2</th>\n",
       "      <td>design</td>\n",
       "      <td>22309</td>\n",
       "    </tr>\n",
       "    <tr>\n",
       "      <th>3</th>\n",
       "      <td>set</td>\n",
       "      <td>17983</td>\n",
       "    </tr>\n",
       "    <tr>\n",
       "      <th>4</th>\n",
       "      <td>collection</td>\n",
       "      <td>14665</td>\n",
       "    </tr>\n",
       "    <tr>\n",
       "      <th>5</th>\n",
       "      <td>business</td>\n",
       "      <td>13893</td>\n",
       "    </tr>\n",
       "    <tr>\n",
       "      <th>6</th>\n",
       "      <td>isolated</td>\n",
       "      <td>13868</td>\n",
       "    </tr>\n",
       "    <tr>\n",
       "      <th>7</th>\n",
       "      <td>decorative</td>\n",
       "      <td>13668</td>\n",
       "    </tr>\n",
       "    <tr>\n",
       "      <th>8</th>\n",
       "      <td>symbol</td>\n",
       "      <td>13093</td>\n",
       "    </tr>\n",
       "    <tr>\n",
       "      <th>9</th>\n",
       "      <td>elements</td>\n",
       "      <td>11917</td>\n",
       "    </tr>\n",
       "    <tr>\n",
       "      <th>10</th>\n",
       "      <td>icons</td>\n",
       "      <td>11864</td>\n",
       "    </tr>\n",
       "    <tr>\n",
       "      <th>11</th>\n",
       "      <td>concept</td>\n",
       "      <td>10487</td>\n",
       "    </tr>\n",
       "    <tr>\n",
       "      <th>12</th>\n",
       "      <td>background</td>\n",
       "      <td>9936</td>\n",
       "    </tr>\n",
       "    <tr>\n",
       "      <th>13</th>\n",
       "      <td>flat</td>\n",
       "      <td>8766</td>\n",
       "    </tr>\n",
       "    <tr>\n",
       "      <th>14</th>\n",
       "      <td>internet</td>\n",
       "      <td>8336</td>\n",
       "    </tr>\n",
       "    <tr>\n",
       "      <th>15</th>\n",
       "      <td>technology</td>\n",
       "      <td>8051</td>\n",
       "    </tr>\n",
       "    <tr>\n",
       "      <th>16</th>\n",
       "      <td>template</td>\n",
       "      <td>8015</td>\n",
       "    </tr>\n",
       "    <tr>\n",
       "      <th>17</th>\n",
       "      <td>layout</td>\n",
       "      <td>7628</td>\n",
       "    </tr>\n",
       "    <tr>\n",
       "      <th>18</th>\n",
       "      <td>sign</td>\n",
       "      <td>7445</td>\n",
       "    </tr>\n",
       "    <tr>\n",
       "      <th>19</th>\n",
       "      <td>computer</td>\n",
       "      <td>7047</td>\n",
       "    </tr>\n",
       "    <tr>\n",
       "      <th>20</th>\n",
       "      <td>emblem</td>\n",
       "      <td>6948</td>\n",
       "    </tr>\n",
       "    <tr>\n",
       "      <th>21</th>\n",
       "      <td>abstract</td>\n",
       "      <td>6816</td>\n",
       "    </tr>\n",
       "    <tr>\n",
       "      <th>22</th>\n",
       "      <td>object</td>\n",
       "      <td>5967</td>\n",
       "    </tr>\n",
       "    <tr>\n",
       "      <th>23</th>\n",
       "      <td>banner</td>\n",
       "      <td>5912</td>\n",
       "    </tr>\n",
       "    <tr>\n",
       "      <th>24</th>\n",
       "      <td>element</td>\n",
       "      <td>5423</td>\n",
       "    </tr>\n",
       "    <tr>\n",
       "      <th>25</th>\n",
       "      <td>pictogram</td>\n",
       "      <td>4888</td>\n",
       "    </tr>\n",
       "    <tr>\n",
       "      <th>26</th>\n",
       "      <td>mobile</td>\n",
       "      <td>4809</td>\n",
       "    </tr>\n",
       "    <tr>\n",
       "      <th>27</th>\n",
       "      <td>web</td>\n",
       "      <td>4681</td>\n",
       "    </tr>\n",
       "    <tr>\n",
       "      <th>28</th>\n",
       "      <td>art</td>\n",
       "      <td>4642</td>\n",
       "    </tr>\n",
       "    <tr>\n",
       "      <th>29</th>\n",
       "      <td>website</td>\n",
       "      <td>4533</td>\n",
       "    </tr>\n",
       "    <tr>\n",
       "      <th>30</th>\n",
       "      <td>network</td>\n",
       "      <td>4282</td>\n",
       "    </tr>\n",
       "    <tr>\n",
       "      <th>31</th>\n",
       "      <td>poster</td>\n",
       "      <td>4057</td>\n",
       "    </tr>\n",
       "    <tr>\n",
       "      <th>32</th>\n",
       "      <td>cover</td>\n",
       "      <td>3998</td>\n",
       "    </tr>\n",
       "    <tr>\n",
       "      <th>33</th>\n",
       "      <td>people</td>\n",
       "      <td>3806</td>\n",
       "    </tr>\n",
       "    <tr>\n",
       "      <th>34</th>\n",
       "      <td>print</td>\n",
       "      <td>3720</td>\n",
       "    </tr>\n",
       "    <tr>\n",
       "      <th>35</th>\n",
       "      <td>infographics</td>\n",
       "      <td>3718</td>\n",
       "    </tr>\n",
       "    <tr>\n",
       "      <th>36</th>\n",
       "      <td>phone</td>\n",
       "      <td>3712</td>\n",
       "    </tr>\n",
       "    <tr>\n",
       "      <th>37</th>\n",
       "      <td>sticker</td>\n",
       "      <td>3697</td>\n",
       "    </tr>\n",
       "    <tr>\n",
       "      <th>38</th>\n",
       "      <td>social</td>\n",
       "      <td>3618</td>\n",
       "    </tr>\n",
       "    <tr>\n",
       "      <th>39</th>\n",
       "      <td>media</td>\n",
       "      <td>3580</td>\n",
       "    </tr>\n",
       "    <tr>\n",
       "      <th>40</th>\n",
       "      <td>wallpaper</td>\n",
       "      <td>3507</td>\n",
       "    </tr>\n",
       "    <tr>\n",
       "      <th>41</th>\n",
       "      <td>quality</td>\n",
       "      <td>3498</td>\n",
       "    </tr>\n",
       "    <tr>\n",
       "      <th>42</th>\n",
       "      <td>service</td>\n",
       "      <td>3490</td>\n",
       "    </tr>\n",
       "    <tr>\n",
       "      <th>43</th>\n",
       "      <td>food</td>\n",
       "      <td>3487</td>\n",
       "    </tr>\n",
       "    <tr>\n",
       "      <th>44</th>\n",
       "      <td>advertising</td>\n",
       "      <td>3324</td>\n",
       "    </tr>\n",
       "    <tr>\n",
       "      <th>45</th>\n",
       "      <td>paper</td>\n",
       "      <td>3255</td>\n",
       "    </tr>\n",
       "    <tr>\n",
       "      <th>46</th>\n",
       "      <td>sale</td>\n",
       "      <td>3208</td>\n",
       "    </tr>\n",
       "    <tr>\n",
       "      <th>47</th>\n",
       "      <td>interface</td>\n",
       "      <td>2971</td>\n",
       "    </tr>\n",
       "    <tr>\n",
       "      <th>48</th>\n",
       "      <td>communication</td>\n",
       "      <td>2902</td>\n",
       "    </tr>\n",
       "    <tr>\n",
       "      <th>49</th>\n",
       "      <td>title</td>\n",
       "      <td>2892</td>\n",
       "    </tr>\n",
       "    <tr>\n",
       "      <th>...</th>\n",
       "      <td>...</td>\n",
       "      <td>...</td>\n",
       "    </tr>\n",
       "    <tr>\n",
       "      <th>15256</th>\n",
       "      <td>metapho</td>\n",
       "      <td>1</td>\n",
       "    </tr>\n",
       "    <tr>\n",
       "      <th>15257</th>\n",
       "      <td>aquarelle</td>\n",
       "      <td>1</td>\n",
       "    </tr>\n",
       "    <tr>\n",
       "      <th>15258</th>\n",
       "      <td>cheapness</td>\n",
       "      <td>1</td>\n",
       "    </tr>\n",
       "    <tr>\n",
       "      <th>15259</th>\n",
       "      <td>spinning top</td>\n",
       "      <td>1</td>\n",
       "    </tr>\n",
       "    <tr>\n",
       "      <th>15260</th>\n",
       "      <td>cheating</td>\n",
       "      <td>1</td>\n",
       "    </tr>\n",
       "    <tr>\n",
       "      <th>15261</th>\n",
       "      <td>checkbook</td>\n",
       "      <td>1</td>\n",
       "    </tr>\n",
       "    <tr>\n",
       "      <th>15262</th>\n",
       "      <td>merge</td>\n",
       "      <td>1</td>\n",
       "    </tr>\n",
       "    <tr>\n",
       "      <th>15263</th>\n",
       "      <td>spirits</td>\n",
       "      <td>1</td>\n",
       "    </tr>\n",
       "    <tr>\n",
       "      <th>15264</th>\n",
       "      <td>aquamarine</td>\n",
       "      <td>1</td>\n",
       "    </tr>\n",
       "    <tr>\n",
       "      <th>15265</th>\n",
       "      <td>merchandizing</td>\n",
       "      <td>1</td>\n",
       "    </tr>\n",
       "    <tr>\n",
       "      <th>15266</th>\n",
       "      <td>meow</td>\n",
       "      <td>1</td>\n",
       "    </tr>\n",
       "    <tr>\n",
       "      <th>15267</th>\n",
       "      <td>menthol</td>\n",
       "      <td>1</td>\n",
       "    </tr>\n",
       "    <tr>\n",
       "      <th>15268</th>\n",
       "      <td>meloman</td>\n",
       "      <td>1</td>\n",
       "    </tr>\n",
       "    <tr>\n",
       "      <th>15269</th>\n",
       "      <td>melissa</td>\n",
       "      <td>1</td>\n",
       "    </tr>\n",
       "    <tr>\n",
       "      <th>15270</th>\n",
       "      <td>melancholy</td>\n",
       "      <td>1</td>\n",
       "    </tr>\n",
       "    <tr>\n",
       "      <th>15271</th>\n",
       "      <td>cheer</td>\n",
       "      <td>1</td>\n",
       "    </tr>\n",
       "    <tr>\n",
       "      <th>15272</th>\n",
       "      <td>meetimg</td>\n",
       "      <td>1</td>\n",
       "    </tr>\n",
       "    <tr>\n",
       "      <th>15273</th>\n",
       "      <td>meditate</td>\n",
       "      <td>1</td>\n",
       "    </tr>\n",
       "    <tr>\n",
       "      <th>15274</th>\n",
       "      <td>splendor</td>\n",
       "      <td>1</td>\n",
       "    </tr>\n",
       "    <tr>\n",
       "      <th>15275</th>\n",
       "      <td>splinter</td>\n",
       "      <td>1</td>\n",
       "    </tr>\n",
       "    <tr>\n",
       "      <th>15276</th>\n",
       "      <td>medical symbol</td>\n",
       "      <td>1</td>\n",
       "    </tr>\n",
       "    <tr>\n",
       "      <th>15277</th>\n",
       "      <td>split-flap</td>\n",
       "      <td>1</td>\n",
       "    </tr>\n",
       "    <tr>\n",
       "      <th>15278</th>\n",
       "      <td>medical icons</td>\n",
       "      <td>1</td>\n",
       "    </tr>\n",
       "    <tr>\n",
       "      <th>15279</th>\n",
       "      <td>meteo</td>\n",
       "      <td>1</td>\n",
       "    </tr>\n",
       "    <tr>\n",
       "      <th>15280</th>\n",
       "      <td>spills</td>\n",
       "      <td>1</td>\n",
       "    </tr>\n",
       "    <tr>\n",
       "      <th>15281</th>\n",
       "      <td>cheaper</td>\n",
       "      <td>1</td>\n",
       "    </tr>\n",
       "    <tr>\n",
       "      <th>15282</th>\n",
       "      <td>metropolitan  city</td>\n",
       "      <td>1</td>\n",
       "    </tr>\n",
       "    <tr>\n",
       "      <th>15283</th>\n",
       "      <td>midi</td>\n",
       "      <td>1</td>\n",
       "    </tr>\n",
       "    <tr>\n",
       "      <th>15284</th>\n",
       "      <td>middle east</td>\n",
       "      <td>1</td>\n",
       "    </tr>\n",
       "    <tr>\n",
       "      <th>15285</th>\n",
       "      <td>midday</td>\n",
       "      <td>1</td>\n",
       "    </tr>\n",
       "    <tr>\n",
       "      <th>15286</th>\n",
       "      <td>spells</td>\n",
       "      <td>1</td>\n",
       "    </tr>\n",
       "    <tr>\n",
       "      <th>15287</th>\n",
       "      <td>spelt</td>\n",
       "      <td>1</td>\n",
       "    </tr>\n",
       "    <tr>\n",
       "      <th>15288</th>\n",
       "      <td>chartflat</td>\n",
       "      <td>1</td>\n",
       "    </tr>\n",
       "    <tr>\n",
       "      <th>15289</th>\n",
       "      <td>spf</td>\n",
       "      <td>1</td>\n",
       "    </tr>\n",
       "    <tr>\n",
       "      <th>15290</th>\n",
       "      <td>mexican border</td>\n",
       "      <td>1</td>\n",
       "    </tr>\n",
       "    <tr>\n",
       "      <th>15291</th>\n",
       "      <td>mex</td>\n",
       "      <td>1</td>\n",
       "    </tr>\n",
       "    <tr>\n",
       "      <th>15292</th>\n",
       "      <td>meuw</td>\n",
       "      <td>1</td>\n",
       "    </tr>\n",
       "    <tr>\n",
       "      <th>15293</th>\n",
       "      <td>metromover</td>\n",
       "      <td>1</td>\n",
       "    </tr>\n",
       "    <tr>\n",
       "      <th>15294</th>\n",
       "      <td>meteorit</td>\n",
       "      <td>1</td>\n",
       "    </tr>\n",
       "    <tr>\n",
       "      <th>15295</th>\n",
       "      <td>chattels</td>\n",
       "      <td>1</td>\n",
       "    </tr>\n",
       "    <tr>\n",
       "      <th>15296</th>\n",
       "      <td>chatter</td>\n",
       "      <td>1</td>\n",
       "    </tr>\n",
       "    <tr>\n",
       "      <th>15297</th>\n",
       "      <td>spiciness</td>\n",
       "      <td>1</td>\n",
       "    </tr>\n",
       "    <tr>\n",
       "      <th>15298</th>\n",
       "      <td>chauffer</td>\n",
       "      <td>1</td>\n",
       "    </tr>\n",
       "    <tr>\n",
       "      <th>15299</th>\n",
       "      <td>methane</td>\n",
       "      <td>1</td>\n",
       "    </tr>\n",
       "    <tr>\n",
       "      <th>15300</th>\n",
       "      <td>spiderweb</td>\n",
       "      <td>1</td>\n",
       "    </tr>\n",
       "    <tr>\n",
       "      <th>15301</th>\n",
       "      <td>metering</td>\n",
       "      <td>1</td>\n",
       "    </tr>\n",
       "    <tr>\n",
       "      <th>15302</th>\n",
       "      <td>chauffeur</td>\n",
       "      <td>1</td>\n",
       "    </tr>\n",
       "    <tr>\n",
       "      <th>15303</th>\n",
       "      <td>che</td>\n",
       "      <td>1</td>\n",
       "    </tr>\n",
       "    <tr>\n",
       "      <th>15304</th>\n",
       "      <td>meteorologist</td>\n",
       "      <td>1</td>\n",
       "    </tr>\n",
       "    <tr>\n",
       "      <th>15305</th>\n",
       "      <td>\"wake up\"</td>\n",
       "      <td>1</td>\n",
       "    </tr>\n",
       "  </tbody>\n",
       "</table>\n",
       "<p>15306 rows × 2 columns</p>\n",
       "</div>"
      ],
      "text/plain": [
       "                      tag  frequency\n",
       "0                  vector      24387\n",
       "1            illustration      24355\n",
       "2                  design      22309\n",
       "3                     set      17983\n",
       "4              collection      14665\n",
       "5                business      13893\n",
       "6                isolated      13868\n",
       "7              decorative      13668\n",
       "8                  symbol      13093\n",
       "9                elements      11917\n",
       "10                  icons      11864\n",
       "11                concept      10487\n",
       "12             background       9936\n",
       "13                   flat       8766\n",
       "14               internet       8336\n",
       "15             technology       8051\n",
       "16               template       8015\n",
       "17                 layout       7628\n",
       "18                   sign       7445\n",
       "19               computer       7047\n",
       "20                 emblem       6948\n",
       "21               abstract       6816\n",
       "22                 object       5967\n",
       "23                 banner       5912\n",
       "24                element       5423\n",
       "25              pictogram       4888\n",
       "26                 mobile       4809\n",
       "27                    web       4681\n",
       "28                    art       4642\n",
       "29                website       4533\n",
       "30                network       4282\n",
       "31                 poster       4057\n",
       "32                  cover       3998\n",
       "33                 people       3806\n",
       "34                  print       3720\n",
       "35           infographics       3718\n",
       "36                  phone       3712\n",
       "37                sticker       3697\n",
       "38                 social       3618\n",
       "39                  media       3580\n",
       "40              wallpaper       3507\n",
       "41                quality       3498\n",
       "42                service       3490\n",
       "43                   food       3487\n",
       "44            advertising       3324\n",
       "45                  paper       3255\n",
       "46                   sale       3208\n",
       "47              interface       2971\n",
       "48          communication       2902\n",
       "49                  title       2892\n",
       "...                   ...        ...\n",
       "15256             metapho          1\n",
       "15257           aquarelle          1\n",
       "15258           cheapness          1\n",
       "15259        spinning top          1\n",
       "15260            cheating          1\n",
       "15261           checkbook          1\n",
       "15262               merge          1\n",
       "15263             spirits          1\n",
       "15264          aquamarine          1\n",
       "15265       merchandizing          1\n",
       "15266                meow          1\n",
       "15267             menthol          1\n",
       "15268             meloman          1\n",
       "15269             melissa          1\n",
       "15270          melancholy          1\n",
       "15271               cheer          1\n",
       "15272             meetimg          1\n",
       "15273            meditate          1\n",
       "15274            splendor          1\n",
       "15275            splinter          1\n",
       "15276      medical symbol          1\n",
       "15277          split-flap          1\n",
       "15278       medical icons          1\n",
       "15279               meteo          1\n",
       "15280              spills          1\n",
       "15281             cheaper          1\n",
       "15282  metropolitan  city          1\n",
       "15283                midi          1\n",
       "15284         middle east          1\n",
       "15285              midday          1\n",
       "15286              spells          1\n",
       "15287               spelt          1\n",
       "15288           chartflat          1\n",
       "15289                 spf          1\n",
       "15290      mexican border          1\n",
       "15291                 mex          1\n",
       "15292                meuw          1\n",
       "15293          metromover          1\n",
       "15294            meteorit          1\n",
       "15295            chattels          1\n",
       "15296             chatter          1\n",
       "15297           spiciness          1\n",
       "15298            chauffer          1\n",
       "15299             methane          1\n",
       "15300           spiderweb          1\n",
       "15301            metering          1\n",
       "15302           chauffeur          1\n",
       "15303                 che          1\n",
       "15304       meteorologist          1\n",
       "15305           \"wake up\"          1\n",
       "\n",
       "[15306 rows x 2 columns]"
      ]
     },
     "execution_count": 147,
     "metadata": {},
     "output_type": "execute_result"
    }
   ],
   "source": [
    "freq"
   ]
  }
 ],
 "metadata": {
  "anaconda-cloud": {},
  "kernelspec": {
   "display_name": "Python [default]",
   "language": "python",
   "name": "python3"
  },
  "language_info": {
   "codemirror_mode": {
    "name": "ipython",
    "version": 3
   },
   "file_extension": ".py",
   "mimetype": "text/x-python",
   "name": "python",
   "nbconvert_exporter": "python",
   "pygments_lexer": "ipython3",
   "version": "3.5.2"
  }
 },
 "nbformat": 4,
 "nbformat_minor": 1
}
